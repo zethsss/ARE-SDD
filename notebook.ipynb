{
 "cells": [
  {
   "cell_type": "code",
   "execution_count": 1,
   "id": "a0eff821",
   "metadata": {
    "_cell_guid": "b1076dfc-b9ad-4769-8c92-a6c4dae69d19",
    "_uuid": "8f2839f25d086af736a60e9eeb907d3b93b6e0e5",
    "execution": {
     "iopub.execute_input": "2025-04-07T20:01:50.858002Z",
     "iopub.status.busy": "2025-04-07T20:01:50.857667Z",
     "iopub.status.idle": "2025-04-07T20:01:51.679993Z",
     "shell.execute_reply": "2025-04-07T20:01:51.679154Z"
    },
    "papermill": {
     "duration": 0.832976,
     "end_time": "2025-04-07T20:01:51.681633",
     "exception": false,
     "start_time": "2025-04-07T20:01:50.848657",
     "status": "completed"
    },
    "tags": []
   },
   "outputs": [
    {
     "name": "stdout",
     "output_type": "stream",
     "text": [
      "/kaggle/input/are-sd-2025-classification-diagnostique-d-arbres/benchmark.csv\n",
      "/kaggle/input/are-sd-2025-classification-diagnostique-d-arbres/prev.csv\n",
      "/kaggle/input/are-sd-2025-classification-diagnostique-d-arbres/train.csv\n"
     ]
    }
   ],
   "source": [
    "# This Python 3 environment comes with many helpful analytics libraries installed\n",
    "# It is defined by the kaggle/python Docker image: https://github.com/kaggle/docker-python\n",
    "# For example, here's several helpful packages to load\n",
    "\n",
    "import numpy as np # linear algebra\n",
    "import pandas as pd # data processing, CSV file I/O (e.g. pd.read_csv)\n",
    "import matplotlib.pyplot as plt\n",
    "import random\n",
    "import math\n",
    "import time\n",
    "random.seed(0)\n",
    "\n",
    "# Input data files are available in the read-only \"../input/\" directory\n",
    "# For example, running this (by clicking run or pressing Shift+Enter) will list all files under the input directory\n",
    "\n",
    "import os\n",
    "for dirname, _, filenames in os.walk('/kaggle/input'):\n",
    "    for filename in filenames:\n",
    "        print(os.path.join(dirname, filename))\n",
    "\n",
    "# You can write up to 20GB to the current directory (/kaggle/working/) that gets preserved as output when you create a version using \"Save & Run All\" \n",
    "# You can also write temporary files to /kaggle/temp/, but they won't be saved outside of the current session"
   ]
  },
  {
   "cell_type": "code",
   "execution_count": 2,
   "id": "4498f86a",
   "metadata": {
    "execution": {
     "iopub.execute_input": "2025-04-07T20:01:51.697334Z",
     "iopub.status.busy": "2025-04-07T20:01:51.696891Z",
     "iopub.status.idle": "2025-04-07T20:01:51.771024Z",
     "shell.execute_reply": "2025-04-07T20:01:51.769721Z"
    },
    "papermill": {
     "duration": 0.083699,
     "end_time": "2025-04-07T20:01:51.772923",
     "exception": false,
     "start_time": "2025-04-07T20:01:51.689224",
     "status": "completed"
    },
    "tags": []
   },
   "outputs": [
    {
     "data": {
      "text/html": [
       "<div>\n",
       "<style scoped>\n",
       "    .dataframe tbody tr th:only-of-type {\n",
       "        vertical-align: middle;\n",
       "    }\n",
       "\n",
       "    .dataframe tbody tr th {\n",
       "        vertical-align: top;\n",
       "    }\n",
       "\n",
       "    .dataframe thead th {\n",
       "        text-align: right;\n",
       "    }\n",
       "</style>\n",
       "<table border=\"1\" class=\"dataframe\">\n",
       "  <thead>\n",
       "    <tr style=\"text-align: right;\">\n",
       "      <th></th>\n",
       "      <th>quartier</th>\n",
       "      <th>site</th>\n",
       "      <th>genre_arbre</th>\n",
       "      <th>situation</th>\n",
       "      <th>type_sol</th>\n",
       "      <th>surf_permeable</th>\n",
       "      <th>classe_age</th>\n",
       "      <th>hauteur</th>\n",
       "      <th>classe_hauteur</th>\n",
       "      <th>diametre</th>\n",
       "      <th>...</th>\n",
       "      <th>fissure_houppier</th>\n",
       "      <th>ecorce_incluse_houppier</th>\n",
       "      <th>bois_mort_houppier</th>\n",
       "      <th>plaie_houppier</th>\n",
       "      <th>observation_houppier</th>\n",
       "      <th>esperance_maintien</th>\n",
       "      <th>contrainte</th>\n",
       "      <th>classification_diagnostic</th>\n",
       "      <th>Long</th>\n",
       "      <th>Lat</th>\n",
       "    </tr>\n",
       "    <tr>\n",
       "      <th>ID_ARBRE</th>\n",
       "      <th></th>\n",
       "      <th></th>\n",
       "      <th></th>\n",
       "      <th></th>\n",
       "      <th></th>\n",
       "      <th></th>\n",
       "      <th></th>\n",
       "      <th></th>\n",
       "      <th></th>\n",
       "      <th></th>\n",
       "      <th></th>\n",
       "      <th></th>\n",
       "      <th></th>\n",
       "      <th></th>\n",
       "      <th></th>\n",
       "      <th></th>\n",
       "      <th></th>\n",
       "      <th></th>\n",
       "      <th></th>\n",
       "      <th></th>\n",
       "      <th></th>\n",
       "    </tr>\n",
       "  </thead>\n",
       "  <tbody>\n",
       "    <tr>\n",
       "      <th>0</th>\n",
       "      <td>Quartier 3 - Lycée International</td>\n",
       "      <td>RN13</td>\n",
       "      <td>Tilia</td>\n",
       "      <td>Alignement</td>\n",
       "      <td>MA</td>\n",
       "      <td>4.0</td>\n",
       "      <td>A</td>\n",
       "      <td>500</td>\n",
       "      <td>H1</td>\n",
       "      <td>31.830989</td>\n",
       "      <td>...</td>\n",
       "      <td>HPF</td>\n",
       "      <td>Non</td>\n",
       "      <td>HPBM</td>\n",
       "      <td>HPLS</td>\n",
       "      <td>0</td>\n",
       "      <td>1.0</td>\n",
       "      <td>Non</td>\n",
       "      <td>C1</td>\n",
       "      <td>2.064</td>\n",
       "      <td>48.900</td>\n",
       "    </tr>\n",
       "    <tr>\n",
       "      <th>1</th>\n",
       "      <td>Quartier 2 - Alsace - Pereire</td>\n",
       "      <td>Avenue du Maréchal Foch</td>\n",
       "      <td>Tilia</td>\n",
       "      <td>Alignement</td>\n",
       "      <td>MA</td>\n",
       "      <td>4.0</td>\n",
       "      <td>A</td>\n",
       "      <td>800</td>\n",
       "      <td>H2</td>\n",
       "      <td>76.394373</td>\n",
       "      <td>...</td>\n",
       "      <td>HFO</td>\n",
       "      <td>Non</td>\n",
       "      <td>HPBM</td>\n",
       "      <td>HPLNC</td>\n",
       "      <td>Fissure ouverte axe2 2M Sud Est</td>\n",
       "      <td>2.0</td>\n",
       "      <td>Oui</td>\n",
       "      <td>C4</td>\n",
       "      <td>2.085</td>\n",
       "      <td>48.903</td>\n",
       "    </tr>\n",
       "    <tr>\n",
       "      <th>2</th>\n",
       "      <td>Quartier 2 - Alsace - Pereire</td>\n",
       "      <td>RN13</td>\n",
       "      <td>Tilia</td>\n",
       "      <td>Alignement</td>\n",
       "      <td>GR</td>\n",
       "      <td>4.0</td>\n",
       "      <td>A</td>\n",
       "      <td>500</td>\n",
       "      <td>H1</td>\n",
       "      <td>38.197186</td>\n",
       "      <td>...</td>\n",
       "      <td>HPF</td>\n",
       "      <td>Non</td>\n",
       "      <td>HPBM</td>\n",
       "      <td>HPLS</td>\n",
       "      <td>0</td>\n",
       "      <td>1.0</td>\n",
       "      <td>Non</td>\n",
       "      <td>C1</td>\n",
       "      <td>2.070</td>\n",
       "      <td>48.899</td>\n",
       "    </tr>\n",
       "    <tr>\n",
       "      <th>3</th>\n",
       "      <td>Quartier 1 - Cœur de Ville et Quatier forestier</td>\n",
       "      <td>Avenue Gambetta</td>\n",
       "      <td>Tilia</td>\n",
       "      <td>Alignement</td>\n",
       "      <td>Gr</td>\n",
       "      <td>1.0</td>\n",
       "      <td>A</td>\n",
       "      <td>600</td>\n",
       "      <td>H2</td>\n",
       "      <td>66.845076</td>\n",
       "      <td>...</td>\n",
       "      <td>HPF</td>\n",
       "      <td>Non</td>\n",
       "      <td>HPBM</td>\n",
       "      <td>HPLS</td>\n",
       "      <td>Branches cassées</td>\n",
       "      <td>1.0</td>\n",
       "      <td>Non</td>\n",
       "      <td>C2</td>\n",
       "      <td>2.099</td>\n",
       "      <td>48.897</td>\n",
       "    </tr>\n",
       "    <tr>\n",
       "      <th>4</th>\n",
       "      <td>Quartier 1 - Cœur de Ville et Quatier forestier</td>\n",
       "      <td>Rue Thiers</td>\n",
       "      <td>Cercis</td>\n",
       "      <td>Isolé</td>\n",
       "      <td>MA</td>\n",
       "      <td>20.0</td>\n",
       "      <td>JA</td>\n",
       "      <td>400</td>\n",
       "      <td>H1</td>\n",
       "      <td>25.464791</td>\n",
       "      <td>...</td>\n",
       "      <td>HPF</td>\n",
       "      <td>Non</td>\n",
       "      <td>HPBM</td>\n",
       "      <td>HPPL</td>\n",
       "      <td>0</td>\n",
       "      <td>1.0</td>\n",
       "      <td>Non</td>\n",
       "      <td>C2</td>\n",
       "      <td>2.101</td>\n",
       "      <td>48.898</td>\n",
       "    </tr>\n",
       "  </tbody>\n",
       "</table>\n",
       "<p>5 rows × 38 columns</p>\n",
       "</div>"
      ],
      "text/plain": [
       "                                                 quartier  \\\n",
       "ID_ARBRE                                                    \n",
       "0                        Quartier 3 - Lycée International   \n",
       "1                           Quartier 2 - Alsace - Pereire   \n",
       "2                           Quartier 2 - Alsace - Pereire   \n",
       "3         Quartier 1 - Cœur de Ville et Quatier forestier   \n",
       "4         Quartier 1 - Cœur de Ville et Quatier forestier   \n",
       "\n",
       "                             site genre_arbre   situation type_sol  \\\n",
       "ID_ARBRE                                                             \n",
       "0                            RN13       Tilia  Alignement       MA   \n",
       "1         Avenue du Maréchal Foch       Tilia  Alignement       MA   \n",
       "2                            RN13       Tilia  Alignement       GR   \n",
       "3                 Avenue Gambetta       Tilia  Alignement       Gr   \n",
       "4                      Rue Thiers      Cercis       Isolé       MA   \n",
       "\n",
       "          surf_permeable classe_age  hauteur classe_hauteur   diametre  ...  \\\n",
       "ID_ARBRE                                                                ...   \n",
       "0                    4.0          A      500             H1  31.830989  ...   \n",
       "1                    4.0          A      800             H2  76.394373  ...   \n",
       "2                    4.0          A      500             H1  38.197186  ...   \n",
       "3                    1.0          A      600             H2  66.845076  ...   \n",
       "4                   20.0         JA      400             H1  25.464791  ...   \n",
       "\n",
       "          fissure_houppier ecorce_incluse_houppier bois_mort_houppier  \\\n",
       "ID_ARBRE                                                                \n",
       "0                     HPF                      Non              HPBM    \n",
       "1                     HFO                      Non              HPBM    \n",
       "2                     HPF                      Non              HPBM    \n",
       "3                     HPF                      Non              HPBM    \n",
       "4                     HPF                      Non              HPBM    \n",
       "\n",
       "         plaie_houppier             observation_houppier esperance_maintien  \\\n",
       "ID_ARBRE                                                                      \n",
       "0                  HPLS                                0                1.0   \n",
       "1                 HPLNC  Fissure ouverte axe2 2M Sud Est                2.0   \n",
       "2                  HPLS                                0                1.0   \n",
       "3                  HPLS                Branches cassées                 1.0   \n",
       "4                  HPPL                                0                1.0   \n",
       "\n",
       "         contrainte classification_diagnostic   Long     Lat  \n",
       "ID_ARBRE                                                      \n",
       "0               Non                        C1  2.064  48.900  \n",
       "1               Oui                        C4  2.085  48.903  \n",
       "2               Non                        C1  2.070  48.899  \n",
       "3               Non                        C2  2.099  48.897  \n",
       "4               Non                        C2  2.101  48.898  \n",
       "\n",
       "[5 rows x 38 columns]"
      ]
     },
     "execution_count": 2,
     "metadata": {},
     "output_type": "execute_result"
    }
   ],
   "source": [
    "#Chargement des tableaux\n",
    "\n",
    "data = pd.read_csv('/kaggle/input/are-sd-2025-classification-diagnostique-d-arbres/train.csv', index_col = 'ID_ARBRE')\n",
    "prev_data = pd.read_csv('/kaggle/input/are-sd-2025-classification-diagnostique-d-arbres/prev.csv', index_col = 'ID_ARBRE')\n",
    "\n",
    "data.head()"
   ]
  },
  {
   "cell_type": "markdown",
   "id": "53d0ea60",
   "metadata": {
    "papermill": {
     "duration": 0.006552,
     "end_time": "2025-04-07T20:01:51.787117",
     "exception": false,
     "start_time": "2025-04-07T20:01:51.780565",
     "status": "completed"
    },
    "tags": []
   },
   "source": [
    "# Données issues du tableau"
   ]
  },
  {
   "cell_type": "code",
   "execution_count": 3,
   "id": "53c21728",
   "metadata": {
    "execution": {
     "iopub.execute_input": "2025-04-07T20:01:51.801954Z",
     "iopub.status.busy": "2025-04-07T20:01:51.801611Z",
     "iopub.status.idle": "2025-04-07T20:01:51.806252Z",
     "shell.execute_reply": "2025-04-07T20:01:51.805440Z"
    },
    "papermill": {
     "duration": 0.013527,
     "end_time": "2025-04-07T20:01:51.807425",
     "exception": false,
     "start_time": "2025-04-07T20:01:51.793898",
     "status": "completed"
    },
    "tags": []
   },
   "outputs": [
    {
     "data": {
      "text/plain": [
       "(544, 137)"
      ]
     },
     "execution_count": 3,
     "metadata": {},
     "output_type": "execute_result"
    }
   ],
   "source": [
    "#Nombre d'arbres dans data et dans prev_data\n",
    "\n",
    "len(data), len(prev_data)"
   ]
  },
  {
   "cell_type": "code",
   "execution_count": 4,
   "id": "bc5200d1",
   "metadata": {
    "execution": {
     "iopub.execute_input": "2025-04-07T20:01:51.822611Z",
     "iopub.status.busy": "2025-04-07T20:01:51.822247Z",
     "iopub.status.idle": "2025-04-07T20:01:51.838434Z",
     "shell.execute_reply": "2025-04-07T20:01:51.837207Z"
    },
    "papermill": {
     "duration": 0.025191,
     "end_time": "2025-04-07T20:01:51.839746",
     "exception": false,
     "start_time": "2025-04-07T20:01:51.814555",
     "status": "completed"
    },
    "tags": []
   },
   "outputs": [
    {
     "name": "stdout",
     "output_type": "stream",
     "text": [
      "<class 'pandas.core.frame.DataFrame'>\n",
      "Index: 544 entries, 0 to 558\n",
      "Data columns (total 38 columns):\n",
      " #   Column                     Non-Null Count  Dtype  \n",
      "---  ------                     --------------  -----  \n",
      " 0   quartier                   544 non-null    object \n",
      " 1   site                       544 non-null    object \n",
      " 2   genre_arbre                544 non-null    object \n",
      " 3   situation                  544 non-null    object \n",
      " 4   type_sol                   544 non-null    object \n",
      " 5   surf_permeable             544 non-null    float64\n",
      " 6   classe_age                 544 non-null    object \n",
      " 7   hauteur                    544 non-null    int64  \n",
      " 8   classe_hauteur             544 non-null    object \n",
      " 9   diametre                   544 non-null    float64\n",
      " 10  circonference (en cm)      544 non-null    int64  \n",
      " 11  classe_circonference       544 non-null    object \n",
      " 12  port_arbre                 544 non-null    object \n",
      " 13  vigueur_pousse             544 non-null    object \n",
      " 14  champignon_collet          544 non-null    object \n",
      " 15  insecte_collet             544 non-null    object \n",
      " 16  plaie_collet               544 non-null    object \n",
      " 17  observation_collet         544 non-null    object \n",
      " 18  champignon_tronc           544 non-null    object \n",
      " 19  insecte_tronc              544 non-null    object \n",
      " 20  fissure_tronc              544 non-null    object \n",
      " 21  rejet_tronc                544 non-null    object \n",
      " 22  tuteurage_arbre            544 non-null    object \n",
      " 23  canisse_arbre              544 non-null    object \n",
      " 24  plaie_tronc                544 non-null    object \n",
      " 25  observation_tronc          544 non-null    object \n",
      " 26  champignon_houppier        544 non-null    object \n",
      " 27  insecte_houppier           544 non-null    object \n",
      " 28  fissure_houppier           544 non-null    object \n",
      " 29  ecorce_incluse_houppier    544 non-null    object \n",
      " 30  bois_mort_houppier         544 non-null    object \n",
      " 31  plaie_houppier             544 non-null    object \n",
      " 32  observation_houppier       544 non-null    object \n",
      " 33  esperance_maintien         544 non-null    float64\n",
      " 34  contrainte                 544 non-null    object \n",
      " 35  classification_diagnostic  544 non-null    object \n",
      " 36  Long                       544 non-null    float64\n",
      " 37  Lat                        544 non-null    float64\n",
      "dtypes: float64(5), int64(2), object(31)\n",
      "memory usage: 165.8+ KB\n"
     ]
    }
   ],
   "source": [
    "#Colonnes du tableau et leur type\n",
    "\n",
    "data.info()"
   ]
  },
  {
   "cell_type": "code",
   "execution_count": 5,
   "id": "65548670",
   "metadata": {
    "execution": {
     "iopub.execute_input": "2025-04-07T20:01:51.855009Z",
     "iopub.status.busy": "2025-04-07T20:01:51.854724Z",
     "iopub.status.idle": "2025-04-07T20:01:51.860652Z",
     "shell.execute_reply": "2025-04-07T20:01:51.859698Z"
    },
    "papermill": {
     "duration": 0.015168,
     "end_time": "2025-04-07T20:01:51.862151",
     "exception": false,
     "start_time": "2025-04-07T20:01:51.846983",
     "status": "completed"
    },
    "tags": []
   },
   "outputs": [
    {
     "data": {
      "text/plain": [
       "185"
      ]
     },
     "execution_count": 5,
     "metadata": {},
     "output_type": "execute_result"
    }
   ],
   "source": [
    "#Nombre d'arbres de classification C1\n",
    "\n",
    "np.sum(data['classification_diagnostic'] == 'C1')"
   ]
  },
  {
   "cell_type": "code",
   "execution_count": 6,
   "id": "0cdec95a",
   "metadata": {
    "execution": {
     "iopub.execute_input": "2025-04-07T20:01:51.878262Z",
     "iopub.status.busy": "2025-04-07T20:01:51.877980Z",
     "iopub.status.idle": "2025-04-07T20:01:52.089275Z",
     "shell.execute_reply": "2025-04-07T20:01:52.087995Z"
    },
    "papermill": {
     "duration": 0.220919,
     "end_time": "2025-04-07T20:01:52.090894",
     "exception": false,
     "start_time": "2025-04-07T20:01:51.869975",
     "status": "completed"
    },
    "tags": []
   },
   "outputs": [
    {
     "data": {
      "image/png": "[encoded data removed]",
      "text/plain": [
       "<Figure size 640x480 with 1 Axes>"
      ]
     },
     "metadata": {},
     "output_type": "display_data"
    }
   ],
   "source": [
    "#Répartition des classifications des arbres en pourcentages\n",
    "\n",
    "(100 * data['classification_diagnostic'].value_counts() / len(data)).plot.bar()\n",
    "plt.title(\"Répartition des classifications diagnostic des arbres\")\n",
    "plt.xlabel(\"Classification diagnostic\")\n",
    "plt.ylabel(\"Pourcentage d'arbres\")\n",
    "plt.show()"
   ]
  },
  {
   "cell_type": "code",
   "execution_count": 7,
   "id": "3c2838af",
   "metadata": {
    "execution": {
     "iopub.execute_input": "2025-04-07T20:01:52.107961Z",
     "iopub.status.busy": "2025-04-07T20:01:52.107627Z",
     "iopub.status.idle": "2025-04-07T20:01:52.226528Z",
     "shell.execute_reply": "2025-04-07T20:01:52.225721Z"
    },
    "papermill": {
     "duration": 0.128847,
     "end_time": "2025-04-07T20:01:52.227825",
     "exception": false,
     "start_time": "2025-04-07T20:01:52.098978",
     "status": "completed"
    },
    "tags": []
   },
   "outputs": [
    {
     "data": {
      "image/png": "[encoded data removed]",
      "text/plain": [
       "<Figure size 640x480 with 1 Axes>"
      ]
     },
     "metadata": {},
     "output_type": "display_data"
    }
   ],
   "source": [
    "#Répartition des âges des arbres en pourcentages\n",
    "\n",
    "(100 * data['classe_age'].value_counts() / len(data)).plot.bar()\n",
    "plt.title(\"Répartition des âges des arbres\")\n",
    "plt.xlabel(\"Classes d'âges\")\n",
    "plt.ylabel(\"Pourcentage d'arbres\")\n",
    "plt.show()"
   ]
  },
  {
   "cell_type": "code",
   "execution_count": 8,
   "id": "fea45c86",
   "metadata": {
    "execution": {
     "iopub.execute_input": "2025-04-07T20:01:52.246477Z",
     "iopub.status.busy": "2025-04-07T20:01:52.246121Z",
     "iopub.status.idle": "2025-04-07T20:01:52.446997Z",
     "shell.execute_reply": "2025-04-07T20:01:52.446163Z"
    },
    "papermill": {
     "duration": 0.212505,
     "end_time": "2025-04-07T20:01:52.448906",
     "exception": false,
     "start_time": "2025-04-07T20:01:52.236401",
     "status": "completed"
    },
    "tags": []
   },
   "outputs": [
    {
     "data": {
      "image/png": "[encoded data removed]",
      "text/plain": [
       "<Figure size 640x480 with 1 Axes>"
      ]
     },
     "metadata": {},
     "output_type": "display_data"
    }
   ],
   "source": [
    "#Répartition des espèces des arbres en pourcentages\n",
    "\n",
    "(100 * data['genre_arbre'].value_counts() / len(data)).plot.bar()\n",
    "plt.title(\"Répartition des espèces des arbres\")\n",
    "plt.xlabel(\"Espèces\")\n",
    "plt.ylabel(\"Pourcentage d'arbres\")\n",
    "plt.show()"
   ]
  },
  {
   "cell_type": "code",
   "execution_count": 9,
   "id": "4691fc81",
   "metadata": {
    "execution": {
     "iopub.execute_input": "2025-04-07T20:01:52.468547Z",
     "iopub.status.busy": "2025-04-07T20:01:52.467907Z",
     "iopub.status.idle": "2025-04-07T20:01:52.705305Z",
     "shell.execute_reply": "2025-04-07T20:01:52.704326Z"
    },
    "papermill": {
     "duration": 0.24847,
     "end_time": "2025-04-07T20:01:52.706626",
     "exception": false,
     "start_time": "2025-04-07T20:01:52.458156",
     "status": "completed"
    },
    "tags": []
   },
   "outputs": [
    {
     "data": {
      "image/png": "[encoded data removed]",
      "text/plain": [
       "<Figure size 640x480 with 1 Axes>"
      ]
     },
     "metadata": {},
     "output_type": "display_data"
    }
   ],
   "source": [
    "#Répartition des hauteurs par classification_diagnostic\n",
    "\n",
    "diagnostics = data['classification_diagnostic'].unique()\n",
    "diagnostics.sort()\n",
    "hauteur_classes = data['classe_hauteur'].unique()\n",
    "hauteur_classes.sort()\n",
    "\n",
    "bar_width = 0.8 / len(hauteur_classes) \n",
    "x = np.arange(len(diagnostics))  \n",
    "\n",
    "for i, hauteur in enumerate(hauteur_classes):\n",
    "    #Nb d'éléments par hauteur et classe diagnostique\n",
    "    counts = [ sum((data['classification_diagnostic'] == diag) & (data['classe_hauteur'] == hauteur))\n",
    "              for diag in diagnostics]\n",
    "    plt.bar(\n",
    "        x + i * bar_width, #Expression pour que les barres ne se chevauchent pas\n",
    "        counts, \n",
    "        bar_width, \n",
    "        label=f'Hauteur: {hauteur}'\n",
    "    )\n",
    "\n",
    "plt.xticks(x + (len(hauteur_classes)-1) * bar_width / 2, diagnostics)  # Centrer les labels sur l'axe x ()\n",
    "plt.title(\"Répartition des hauteurs par classification diagnostic\")\n",
    "plt.xlabel(\"Classification diagnostic\")\n",
    "plt.ylabel(\"Nombre d'arbres\")\n",
    "plt.legend(title=\"Classe de hauteur\")\n",
    "plt.show()"
   ]
  },
  {
   "cell_type": "code",
   "execution_count": 10,
   "id": "adca86b3",
   "metadata": {
    "execution": {
     "iopub.execute_input": "2025-04-07T20:01:52.725782Z",
     "iopub.status.busy": "2025-04-07T20:01:52.725523Z",
     "iopub.status.idle": "2025-04-07T20:01:52.886924Z",
     "shell.execute_reply": "2025-04-07T20:01:52.885694Z"
    },
    "papermill": {
     "duration": 0.17267,
     "end_time": "2025-04-07T20:01:52.888567",
     "exception": false,
     "start_time": "2025-04-07T20:01:52.715897",
     "status": "completed"
    },
    "tags": []
   },
   "outputs": [
    {
     "data": {
      "image/png": "[encoded data removed]",
      "text/plain": [
       "<Figure size 640x480 with 1 Axes>"
      ]
     },
     "metadata": {},
     "output_type": "display_data"
    }
   ],
   "source": [
    "#Position géographique des arbres\n",
    "\n",
    "plt.scatter(data['Long'], data['Lat'], c = 'green')\n",
    "plt.axis('equal')\n",
    "plt.title(\"Position géographique des arbres\")\n",
    "plt.xlabel(\"Longitude\")\n",
    "plt.ylabel(\"Latitude\")\n",
    "plt.show()"
   ]
  },
  {
   "cell_type": "code",
   "execution_count": 11,
   "id": "26c059e1",
   "metadata": {
    "execution": {
     "iopub.execute_input": "2025-04-07T20:01:52.911234Z",
     "iopub.status.busy": "2025-04-07T20:01:52.910892Z",
     "iopub.status.idle": "2025-04-07T20:01:53.045289Z",
     "shell.execute_reply": "2025-04-07T20:01:53.043695Z"
    },
    "papermill": {
     "duration": 0.148371,
     "end_time": "2025-04-07T20:01:53.047589",
     "exception": false,
     "start_time": "2025-04-07T20:01:52.899218",
     "status": "completed"
    },
    "tags": []
   },
   "outputs": [
    {
     "data": {
      "image/png": "[encoded data removed]",
      "text/plain": [
       "<Figure size 640x480 with 1 Axes>"
      ]
     },
     "metadata": {},
     "output_type": "display_data"
    },
    {
     "data": {
      "text/plain": [
       "(293.88157053526754, 8.532988476310926)"
      ]
     },
     "execution_count": 11,
     "metadata": {},
     "output_type": "execute_result"
    }
   ],
   "source": [
    "#Corrélation entre diamètre et hauteur des arbres\n",
    "\n",
    "x = data['diametre']\n",
    "y = data['hauteur']\n",
    "plt.scatter(x, y, c = 'green') #On affiche les données sur un graphe en 2D\n",
    "\n",
    "b = (np.cov(x,y)[0,1]) / np.var(x)\n",
    "a = np.mean(y) - b * np.mean(x)\n",
    "plt.plot([np.min(x), np.max(x)],[a + b * np.min(x), a + b * np.max(x)] , c = 'red') #On calcule la droite qui minimise le\n",
    "#critère des moindres carrés, c'est a dire la droite qui approche le mieux les données\n",
    "\n",
    "plt.title(\"Corrélation entre diamètre et hauteur des arbres\")\n",
    "plt.xlabel(\"Diamètre\")\n",
    "plt.ylabel(\"Hauteur\")\n",
    "plt.show()\n",
    "\n",
    "(a,b)"
   ]
  },
  {
   "cell_type": "markdown",
   "id": "15152cbc",
   "metadata": {
    "papermill": {
     "duration": 0.010832,
     "end_time": "2025-04-07T20:01:53.070945",
     "exception": false,
     "start_time": "2025-04-07T20:01:53.060113",
     "status": "completed"
    },
    "tags": []
   },
   "source": [
    "# Algorithme de Naive Bayes"
   ]
  },
  {
   "cell_type": "code",
   "execution_count": 12,
   "id": "51a434b7",
   "metadata": {
    "execution": {
     "iopub.execute_input": "2025-04-07T20:01:53.094028Z",
     "iopub.status.busy": "2025-04-07T20:01:53.093743Z",
     "iopub.status.idle": "2025-04-07T20:01:53.101096Z",
     "shell.execute_reply": "2025-04-07T20:01:53.100356Z"
    },
    "papermill": {
     "duration": 0.020101,
     "end_time": "2025-04-07T20:01:53.102455",
     "exception": false,
     "start_time": "2025-04-07T20:01:53.082354",
     "status": "completed"
    },
    "tags": []
   },
   "outputs": [
    {
     "data": {
      "text/html": [
       "<div>\n",
       "<style scoped>\n",
       "    .dataframe tbody tr th:only-of-type {\n",
       "        vertical-align: middle;\n",
       "    }\n",
       "\n",
       "    .dataframe tbody tr th {\n",
       "        vertical-align: top;\n",
       "    }\n",
       "\n",
       "    .dataframe thead th {\n",
       "        text-align: right;\n",
       "    }\n",
       "</style>\n",
       "<table border=\"1\" class=\"dataframe\">\n",
       "  <thead>\n",
       "    <tr style=\"text-align: right;\">\n",
       "      <th></th>\n",
       "      <th>classification_diagnostic</th>\n",
       "    </tr>\n",
       "    <tr>\n",
       "      <th>ID_ARBRE</th>\n",
       "      <th></th>\n",
       "    </tr>\n",
       "  </thead>\n",
       "  <tbody>\n",
       "    <tr>\n",
       "      <th>0</th>\n",
       "      <td>C1</td>\n",
       "    </tr>\n",
       "    <tr>\n",
       "      <th>1</th>\n",
       "      <td>C4</td>\n",
       "    </tr>\n",
       "    <tr>\n",
       "      <th>2</th>\n",
       "      <td>C1</td>\n",
       "    </tr>\n",
       "    <tr>\n",
       "      <th>3</th>\n",
       "      <td>C2</td>\n",
       "    </tr>\n",
       "    <tr>\n",
       "      <th>4</th>\n",
       "      <td>C2</td>\n",
       "    </tr>\n",
       "  </tbody>\n",
       "</table>\n",
       "</div>"
      ],
      "text/plain": [
       "         classification_diagnostic\n",
       "ID_ARBRE                          \n",
       "0                               C1\n",
       "1                               C4\n",
       "2                               C1\n",
       "3                               C2\n",
       "4                               C2"
      ]
     },
     "execution_count": 12,
     "metadata": {},
     "output_type": "execute_result"
    }
   ],
   "source": [
    "#Tableau de la classification de chaque arbre\n",
    "\n",
    "cla_arbres = pd.DataFrame(data, columns = ['classification_diagnostic'])\n",
    "\n",
    "cla_arbres.head()"
   ]
  },
  {
   "cell_type": "code",
   "execution_count": 13,
   "id": "0f21729f",
   "metadata": {
    "execution": {
     "iopub.execute_input": "2025-04-07T20:01:53.125687Z",
     "iopub.status.busy": "2025-04-07T20:01:53.125331Z",
     "iopub.status.idle": "2025-04-07T20:01:53.132717Z",
     "shell.execute_reply": "2025-04-07T20:01:53.131731Z"
    },
    "papermill": {
     "duration": 0.020371,
     "end_time": "2025-04-07T20:01:53.134122",
     "exception": false,
     "start_time": "2025-04-07T20:01:53.113751",
     "status": "completed"
    },
    "tags": []
   },
   "outputs": [
    {
     "data": {
      "text/plain": [
       "classification_diagnostic\n",
       "C2    0.579044\n",
       "C1    0.340074\n",
       "C3    0.056985\n",
       "C4    0.012868\n",
       "C5    0.011029\n",
       "Name: proportion, dtype: float64"
      ]
     },
     "execution_count": 13,
     "metadata": {},
     "output_type": "execute_result"
    }
   ],
   "source": [
    "#Répartition des arbres selon classification_diagnostic\n",
    "\n",
    "pY = data['classification_diagnostic'].value_counts(normalize = True)\n",
    "\n",
    "pY"
   ]
  },
  {
   "cell_type": "code",
   "execution_count": 14,
   "id": "acbcdb6f",
   "metadata": {
    "execution": {
     "iopub.execute_input": "2025-04-07T20:01:53.156152Z",
     "iopub.status.busy": "2025-04-07T20:01:53.155820Z",
     "iopub.status.idle": "2025-04-07T20:01:53.179008Z",
     "shell.execute_reply": "2025-04-07T20:01:53.177560Z"
    },
    "papermill": {
     "duration": 0.035552,
     "end_time": "2025-04-07T20:01:53.180398",
     "exception": false,
     "start_time": "2025-04-07T20:01:53.144846",
     "status": "completed"
    },
    "tags": []
   },
   "outputs": [
    {
     "data": {
      "text/html": [
       "<div>\n",
       "<style scoped>\n",
       "    .dataframe tbody tr th:only-of-type {\n",
       "        vertical-align: middle;\n",
       "    }\n",
       "\n",
       "    .dataframe tbody tr th {\n",
       "        vertical-align: top;\n",
       "    }\n",
       "\n",
       "    .dataframe thead th {\n",
       "        text-align: right;\n",
       "    }\n",
       "</style>\n",
       "<table border=\"1\" class=\"dataframe\">\n",
       "  <thead>\n",
       "    <tr style=\"text-align: right;\">\n",
       "      <th>classe_age</th>\n",
       "      <th>A</th>\n",
       "      <th>AM</th>\n",
       "      <th>J</th>\n",
       "      <th>JA</th>\n",
       "    </tr>\n",
       "    <tr>\n",
       "      <th>classification_diagnostic</th>\n",
       "      <th></th>\n",
       "      <th></th>\n",
       "      <th></th>\n",
       "      <th></th>\n",
       "    </tr>\n",
       "  </thead>\n",
       "  <tbody>\n",
       "    <tr>\n",
       "      <th>C1</th>\n",
       "      <td>0.313514</td>\n",
       "      <td>0.000000</td>\n",
       "      <td>0.416216</td>\n",
       "      <td>0.270270</td>\n",
       "    </tr>\n",
       "    <tr>\n",
       "      <th>C2</th>\n",
       "      <td>0.631746</td>\n",
       "      <td>0.006349</td>\n",
       "      <td>0.133333</td>\n",
       "      <td>0.228571</td>\n",
       "    </tr>\n",
       "    <tr>\n",
       "      <th>C3</th>\n",
       "      <td>0.419355</td>\n",
       "      <td>0.000000</td>\n",
       "      <td>0.064516</td>\n",
       "      <td>0.516129</td>\n",
       "    </tr>\n",
       "    <tr>\n",
       "      <th>C4</th>\n",
       "      <td>0.714286</td>\n",
       "      <td>0.000000</td>\n",
       "      <td>0.142857</td>\n",
       "      <td>0.142857</td>\n",
       "    </tr>\n",
       "    <tr>\n",
       "      <th>C5</th>\n",
       "      <td>0.833333</td>\n",
       "      <td>0.000000</td>\n",
       "      <td>0.000000</td>\n",
       "      <td>0.166667</td>\n",
       "    </tr>\n",
       "  </tbody>\n",
       "</table>\n",
       "</div>"
      ],
      "text/plain": [
       "classe_age                        A        AM         J        JA\n",
       "classification_diagnostic                                        \n",
       "C1                         0.313514  0.000000  0.416216  0.270270\n",
       "C2                         0.631746  0.006349  0.133333  0.228571\n",
       "C3                         0.419355  0.000000  0.064516  0.516129\n",
       "C4                         0.714286  0.000000  0.142857  0.142857\n",
       "C5                         0.833333  0.000000  0.000000  0.166667"
      ]
     },
     "execution_count": 14,
     "metadata": {},
     "output_type": "execute_result"
    }
   ],
   "source": [
    "#Fonction qui établit le tableau de contingence entre classification_diagnostic et une variable v1\n",
    "\n",
    "def contin(v1) :\n",
    "    return pd.crosstab(data['classification_diagnostic'], data[v1], normalize = 'index')\n",
    "\n",
    "contin('classe_age')"
   ]
  },
  {
   "cell_type": "code",
   "execution_count": 15,
   "id": "c0d0e742",
   "metadata": {
    "execution": {
     "iopub.execute_input": "2025-04-07T20:01:53.203839Z",
     "iopub.status.busy": "2025-04-07T20:01:53.203518Z",
     "iopub.status.idle": "2025-04-07T20:01:53.217415Z",
     "shell.execute_reply": "2025-04-07T20:01:53.216324Z"
    },
    "papermill": {
     "duration": 0.027211,
     "end_time": "2025-04-07T20:01:53.218791",
     "exception": false,
     "start_time": "2025-04-07T20:01:53.191580",
     "status": "completed"
    },
    "tags": []
   },
   "outputs": [
    {
     "data": {
      "text/plain": [
       "'C1'"
      ]
     },
     "execution_count": 15,
     "metadata": {},
     "output_type": "execute_result"
    }
   ],
   "source": [
    "#Fonction renvoyant la classe majoritaire des arbres ayant a1 comme valeur à la variable v1\n",
    "#On suppose a1 parmi les valeurs de v1\n",
    "\n",
    "def classif1(v1, a1) :\n",
    "    return (contin(v1)[a1] * pY).idxmax() #renvoie l'index de classe la plus fréquente\n",
    "\n",
    "classif1('classe_age','J')"
   ]
  },
  {
   "cell_type": "code",
   "execution_count": 16,
   "id": "74530c56",
   "metadata": {
    "execution": {
     "iopub.execute_input": "2025-04-07T20:01:53.241768Z",
     "iopub.status.busy": "2025-04-07T20:01:53.241437Z",
     "iopub.status.idle": "2025-04-07T20:01:53.938841Z",
     "shell.execute_reply": "2025-04-07T20:01:53.937719Z"
    },
    "papermill": {
     "duration": 0.71043,
     "end_time": "2025-04-07T20:01:53.940328",
     "exception": false,
     "start_time": "2025-04-07T20:01:53.229898",
     "status": "completed"
    },
    "tags": []
   },
   "outputs": [
    {
     "data": {
      "text/html": [
       "<div>\n",
       "<style scoped>\n",
       "    .dataframe tbody tr th:only-of-type {\n",
       "        vertical-align: middle;\n",
       "    }\n",
       "\n",
       "    .dataframe tbody tr th {\n",
       "        vertical-align: top;\n",
       "    }\n",
       "\n",
       "    .dataframe thead th {\n",
       "        text-align: right;\n",
       "    }\n",
       "</style>\n",
       "<table border=\"1\" class=\"dataframe\">\n",
       "  <thead>\n",
       "    <tr style=\"text-align: right;\">\n",
       "      <th></th>\n",
       "      <th>classification_diagnostic</th>\n",
       "    </tr>\n",
       "    <tr>\n",
       "      <th>ID_ARBRE</th>\n",
       "      <th></th>\n",
       "    </tr>\n",
       "  </thead>\n",
       "  <tbody>\n",
       "    <tr>\n",
       "      <th>559</th>\n",
       "      <td>C2</td>\n",
       "    </tr>\n",
       "    <tr>\n",
       "      <th>560</th>\n",
       "      <td>C2</td>\n",
       "    </tr>\n",
       "    <tr>\n",
       "      <th>561</th>\n",
       "      <td>C2</td>\n",
       "    </tr>\n",
       "    <tr>\n",
       "      <th>562</th>\n",
       "      <td>C1</td>\n",
       "    </tr>\n",
       "    <tr>\n",
       "      <th>563</th>\n",
       "      <td>C1</td>\n",
       "    </tr>\n",
       "    <tr>\n",
       "      <th>...</th>\n",
       "      <td>...</td>\n",
       "    </tr>\n",
       "    <tr>\n",
       "      <th>694</th>\n",
       "      <td>C2</td>\n",
       "    </tr>\n",
       "    <tr>\n",
       "      <th>695</th>\n",
       "      <td>C1</td>\n",
       "    </tr>\n",
       "    <tr>\n",
       "      <th>696</th>\n",
       "      <td>C1</td>\n",
       "    </tr>\n",
       "    <tr>\n",
       "      <th>697</th>\n",
       "      <td>C1</td>\n",
       "    </tr>\n",
       "    <tr>\n",
       "      <th>698</th>\n",
       "      <td>C1</td>\n",
       "    </tr>\n",
       "  </tbody>\n",
       "</table>\n",
       "<p>137 rows × 1 columns</p>\n",
       "</div>"
      ],
      "text/plain": [
       "         classification_diagnostic\n",
       "ID_ARBRE                          \n",
       "559                             C2\n",
       "560                             C2\n",
       "561                             C2\n",
       "562                             C1\n",
       "563                             C1\n",
       "...                            ...\n",
       "694                             C2\n",
       "695                             C1\n",
       "696                             C1\n",
       "697                             C1\n",
       "698                             C1\n",
       "\n",
       "[137 rows x 1 columns]"
      ]
     },
     "execution_count": 16,
     "metadata": {},
     "output_type": "execute_result"
    }
   ],
   "source": [
    "#Naive Bayes à 1 variable, qui s'entraine sur train, et prévoit sur prev, à partir de la variable v1\n",
    "def bayes1(train, prev, v1) :\n",
    "    \n",
    "    #Sélection des \"catégories\", création du DataFrame\n",
    "    labels = np.unique(train['classification_diagnostic'])\n",
    "    df = pd.DataFrame(index = prev.index, columns = ['classification_diagnostic'])\n",
    "    \n",
    "    #Obtention de la classe la plus probable grâce à \"classif1\"\n",
    "    for i in prev.index :\n",
    "        df.loc[i, 'classification_diagnostic'] = classif1(v1,prev.loc[i,v1])\n",
    "\n",
    "    return df\n",
    "\n",
    "bayes1(data, prev_data, 'classe_hauteur')"
   ]
  },
  {
   "cell_type": "code",
   "execution_count": 17,
   "id": "20b3d625",
   "metadata": {
    "execution": {
     "iopub.execute_input": "2025-04-07T20:01:53.963798Z",
     "iopub.status.busy": "2025-04-07T20:01:53.963490Z",
     "iopub.status.idle": "2025-04-07T20:01:53.986035Z",
     "shell.execute_reply": "2025-04-07T20:01:53.984636Z"
    },
    "papermill": {
     "duration": 0.036371,
     "end_time": "2025-04-07T20:01:53.987884",
     "exception": false,
     "start_time": "2025-04-07T20:01:53.951513",
     "status": "completed"
    },
    "tags": []
   },
   "outputs": [
    {
     "data": {
      "text/plain": [
       "'C1'"
      ]
     },
     "execution_count": 17,
     "metadata": {},
     "output_type": "execute_result"
    }
   ],
   "source": [
    "#Fonction renvoyant la classe majoritaire des arbres ayant a1 comme valeur à la variable v1, et a2 pour v2\n",
    "#On suppose a1 parmi les valeurs de v1 et a2 parmi les valeurs de v2\n",
    "\n",
    "def classif2(v1, v2, a1, a2) :\n",
    "    return (contin(v1)[a1] * contin(v2)[a2]* pY).idxmax() #renvoie l'index de classe la plus fréquente\n",
    "\n",
    "classif2('classe_hauteur','classe_age','H1','J')"
   ]
  },
  {
   "cell_type": "code",
   "execution_count": 18,
   "id": "f09c8cc3",
   "metadata": {
    "execution": {
     "iopub.execute_input": "2025-04-07T20:01:54.013061Z",
     "iopub.status.busy": "2025-04-07T20:01:54.012756Z",
     "iopub.status.idle": "2025-04-07T20:01:55.396871Z",
     "shell.execute_reply": "2025-04-07T20:01:55.395937Z"
    },
    "papermill": {
     "duration": 1.399015,
     "end_time": "2025-04-07T20:01:55.398209",
     "exception": false,
     "start_time": "2025-04-07T20:01:53.999194",
     "status": "completed"
    },
    "tags": []
   },
   "outputs": [
    {
     "data": {
      "text/html": [
       "<div>\n",
       "<style scoped>\n",
       "    .dataframe tbody tr th:only-of-type {\n",
       "        vertical-align: middle;\n",
       "    }\n",
       "\n",
       "    .dataframe tbody tr th {\n",
       "        vertical-align: top;\n",
       "    }\n",
       "\n",
       "    .dataframe thead th {\n",
       "        text-align: right;\n",
       "    }\n",
       "</style>\n",
       "<table border=\"1\" class=\"dataframe\">\n",
       "  <thead>\n",
       "    <tr style=\"text-align: right;\">\n",
       "      <th></th>\n",
       "      <th>classification_diagnostic</th>\n",
       "    </tr>\n",
       "    <tr>\n",
       "      <th>ID_ARBRE</th>\n",
       "      <th></th>\n",
       "    </tr>\n",
       "  </thead>\n",
       "  <tbody>\n",
       "    <tr>\n",
       "      <th>559</th>\n",
       "      <td>C2</td>\n",
       "    </tr>\n",
       "    <tr>\n",
       "      <th>560</th>\n",
       "      <td>C2</td>\n",
       "    </tr>\n",
       "    <tr>\n",
       "      <th>561</th>\n",
       "      <td>C2</td>\n",
       "    </tr>\n",
       "    <tr>\n",
       "      <th>562</th>\n",
       "      <td>C1</td>\n",
       "    </tr>\n",
       "    <tr>\n",
       "      <th>563</th>\n",
       "      <td>C2</td>\n",
       "    </tr>\n",
       "    <tr>\n",
       "      <th>...</th>\n",
       "      <td>...</td>\n",
       "    </tr>\n",
       "    <tr>\n",
       "      <th>694</th>\n",
       "      <td>C2</td>\n",
       "    </tr>\n",
       "    <tr>\n",
       "      <th>695</th>\n",
       "      <td>C1</td>\n",
       "    </tr>\n",
       "    <tr>\n",
       "      <th>696</th>\n",
       "      <td>C1</td>\n",
       "    </tr>\n",
       "    <tr>\n",
       "      <th>697</th>\n",
       "      <td>C2</td>\n",
       "    </tr>\n",
       "    <tr>\n",
       "      <th>698</th>\n",
       "      <td>C1</td>\n",
       "    </tr>\n",
       "  </tbody>\n",
       "</table>\n",
       "<p>137 rows × 1 columns</p>\n",
       "</div>"
      ],
      "text/plain": [
       "         classification_diagnostic\n",
       "ID_ARBRE                          \n",
       "559                             C2\n",
       "560                             C2\n",
       "561                             C2\n",
       "562                             C1\n",
       "563                             C2\n",
       "...                            ...\n",
       "694                             C2\n",
       "695                             C1\n",
       "696                             C1\n",
       "697                             C2\n",
       "698                             C1\n",
       "\n",
       "[137 rows x 1 columns]"
      ]
     },
     "execution_count": 18,
     "metadata": {},
     "output_type": "execute_result"
    }
   ],
   "source": [
    "#Naive Bayes à 2 variables, qui s'entraine sur train, et prévoit sur prev, à partir des variables v1 et v2\n",
    "def bayes2(train, prev, v1, v2) :\n",
    "    \n",
    "    #Sélection des \"catégories\", création du DataFrame\n",
    "    labels = np.unique(train['classification_diagnostic'])\n",
    "    df = pd.DataFrame(index = prev.index, columns = ['classification_diagnostic'])\n",
    "    \n",
    "    #Obtention de la classe la plus probable grâce à \"classif2\"\n",
    "    for i in prev.index :\n",
    "        df.loc[i, 'classification_diagnostic'] = classif2(v1,v2,prev.loc[i,v1],prev.loc[i,v2])\n",
    "\n",
    "    return df\n",
    "\n",
    "bayes2(data, prev_data, 'classe_hauteur', 'classe_age')"
   ]
  },
  {
   "cell_type": "code",
   "execution_count": 19,
   "id": "b41d2e69",
   "metadata": {
    "execution": {
     "iopub.execute_input": "2025-04-07T20:01:55.421178Z",
     "iopub.status.busy": "2025-04-07T20:01:55.420863Z",
     "iopub.status.idle": "2025-04-07T20:01:55.442968Z",
     "shell.execute_reply": "2025-04-07T20:01:55.441906Z"
    },
    "papermill": {
     "duration": 0.035849,
     "end_time": "2025-04-07T20:01:55.445223",
     "exception": false,
     "start_time": "2025-04-07T20:01:55.409374",
     "status": "completed"
    },
    "tags": []
   },
   "outputs": [
    {
     "data": {
      "text/plain": [
       "'C2'"
      ]
     },
     "execution_count": 19,
     "metadata": {},
     "output_type": "execute_result"
    }
   ],
   "source": [
    "#Fonction renvoyant la classe majoritaire des arbres ayant a1 comme valeur à la variable v1, a2 pour v2 et a3 pour v3\n",
    "#On suppose a1 parmi les valeurs de v1, a2 parmi les valeurs de v2 et a3 parmi les valeurs de v3\n",
    "\n",
    "def classif3(v1, v2, v3, a1, a2, a3) :\n",
    "    return (contin(v1)[a1] * contin(v2)[a2] * contin(v3)[a3] * pY).idxmax() #renvoie l'index de classe la plus fréquente\n",
    "\n",
    "classif3('classe_hauteur','classe_age','plaie_tronc','H1','J','TPLNC')"
   ]
  },
  {
   "cell_type": "code",
   "execution_count": 20,
   "id": "45b320ac",
   "metadata": {
    "execution": {
     "iopub.execute_input": "2025-04-07T20:01:55.470364Z",
     "iopub.status.busy": "2025-04-07T20:01:55.469998Z",
     "iopub.status.idle": "2025-04-07T20:01:57.436211Z",
     "shell.execute_reply": "2025-04-07T20:01:57.434789Z"
    },
    "papermill": {
     "duration": 1.9801,
     "end_time": "2025-04-07T20:01:57.437916",
     "exception": false,
     "start_time": "2025-04-07T20:01:55.457816",
     "status": "completed"
    },
    "tags": []
   },
   "outputs": [
    {
     "data": {
      "text/html": [
       "<div>\n",
       "<style scoped>\n",
       "    .dataframe tbody tr th:only-of-type {\n",
       "        vertical-align: middle;\n",
       "    }\n",
       "\n",
       "    .dataframe tbody tr th {\n",
       "        vertical-align: top;\n",
       "    }\n",
       "\n",
       "    .dataframe thead th {\n",
       "        text-align: right;\n",
       "    }\n",
       "</style>\n",
       "<table border=\"1\" class=\"dataframe\">\n",
       "  <thead>\n",
       "    <tr style=\"text-align: right;\">\n",
       "      <th></th>\n",
       "      <th>classification_diagnostic</th>\n",
       "    </tr>\n",
       "    <tr>\n",
       "      <th>ID_ARBRE</th>\n",
       "      <th></th>\n",
       "    </tr>\n",
       "  </thead>\n",
       "  <tbody>\n",
       "    <tr>\n",
       "      <th>559</th>\n",
       "      <td>C2</td>\n",
       "    </tr>\n",
       "    <tr>\n",
       "      <th>560</th>\n",
       "      <td>C2</td>\n",
       "    </tr>\n",
       "    <tr>\n",
       "      <th>561</th>\n",
       "      <td>C2</td>\n",
       "    </tr>\n",
       "    <tr>\n",
       "      <th>562</th>\n",
       "      <td>C1</td>\n",
       "    </tr>\n",
       "    <tr>\n",
       "      <th>563</th>\n",
       "      <td>C2</td>\n",
       "    </tr>\n",
       "    <tr>\n",
       "      <th>...</th>\n",
       "      <td>...</td>\n",
       "    </tr>\n",
       "    <tr>\n",
       "      <th>694</th>\n",
       "      <td>C2</td>\n",
       "    </tr>\n",
       "    <tr>\n",
       "      <th>695</th>\n",
       "      <td>C1</td>\n",
       "    </tr>\n",
       "    <tr>\n",
       "      <th>696</th>\n",
       "      <td>C2</td>\n",
       "    </tr>\n",
       "    <tr>\n",
       "      <th>697</th>\n",
       "      <td>C2</td>\n",
       "    </tr>\n",
       "    <tr>\n",
       "      <th>698</th>\n",
       "      <td>C1</td>\n",
       "    </tr>\n",
       "  </tbody>\n",
       "</table>\n",
       "<p>137 rows × 1 columns</p>\n",
       "</div>"
      ],
      "text/plain": [
       "         classification_diagnostic\n",
       "ID_ARBRE                          \n",
       "559                             C2\n",
       "560                             C2\n",
       "561                             C2\n",
       "562                             C1\n",
       "563                             C2\n",
       "...                            ...\n",
       "694                             C2\n",
       "695                             C1\n",
       "696                             C2\n",
       "697                             C2\n",
       "698                             C1\n",
       "\n",
       "[137 rows x 1 columns]"
      ]
     },
     "execution_count": 20,
     "metadata": {},
     "output_type": "execute_result"
    }
   ],
   "source": [
    "#Naive Bayes à 3 variables, qui s'entraine sur train, et prévoit sur prev, à partir des variables v1, v2 et v3\n",
    "def bayes3(train, prev, v1, v2, v3) :\n",
    "    \n",
    "    #Sélection des \"catégories\", création du DataFrame\n",
    "    labels = np.unique(train['classification_diagnostic'])\n",
    "    df = pd.DataFrame(index = prev.index, columns = ['classification_diagnostic'])\n",
    "    \n",
    "    #Obtention de la classe la plus probable grâce à \"classif3\"\n",
    "    for i in prev.index :\n",
    "        df.loc[i, 'classification_diagnostic'] = classif3(v1,v2,v3,prev.loc[i,v1],prev.loc[i,v2],prev.loc[i,v3])\n",
    "\n",
    "    return df\n",
    "\n",
    "bayes3(data, prev_data, 'classe_hauteur', 'classe_age', 'plaie_tronc')"
   ]
  },
  {
   "cell_type": "code",
   "execution_count": 21,
   "id": "dd57d357",
   "metadata": {
    "execution": {
     "iopub.execute_input": "2025-04-07T20:01:57.462177Z",
     "iopub.status.busy": "2025-04-07T20:01:57.461815Z",
     "iopub.status.idle": "2025-04-07T20:01:57.491666Z",
     "shell.execute_reply": "2025-04-07T20:01:57.490219Z"
    },
    "papermill": {
     "duration": 0.043698,
     "end_time": "2025-04-07T20:01:57.493381",
     "exception": false,
     "start_time": "2025-04-07T20:01:57.449683",
     "status": "completed"
    },
    "tags": []
   },
   "outputs": [
    {
     "data": {
      "text/plain": [
       "'C4'"
      ]
     },
     "execution_count": 21,
     "metadata": {},
     "output_type": "execute_result"
    }
   ],
   "source": [
    "#Fonction renvoyant la classe majoritaire des arbres ayant a1 comme valeur à la variable v1, a2 pour v2, a3 pour v3 et a4 pour v4\n",
    "#On suppose a1 parmi les valeurs de v1, a2 parmi les valeurs de v2, a3 parmi les valeurs de v3 et a4 parmi les valeurs de a4\n",
    "\n",
    "def classif4(v1, v2, v3, v4, a1, a2, a3, a4) :\n",
    "    return (contin(v1)[a1] * contin(v2)[a2] * contin(v3)[a3] * contin(v4)[a4] * pY).idxmax() \n",
    "\n",
    "classif4('classe_hauteur','classe_age','plaie_tronc','vigueur_pousse','H1','J','TPLNC','PP')"
   ]
  },
  {
   "cell_type": "code",
   "execution_count": 22,
   "id": "0091b54c",
   "metadata": {
    "execution": {
     "iopub.execute_input": "2025-04-07T20:01:57.517002Z",
     "iopub.status.busy": "2025-04-07T20:01:57.516683Z",
     "iopub.status.idle": "2025-04-07T20:01:59.888915Z",
     "shell.execute_reply": "2025-04-07T20:01:59.887702Z"
    },
    "papermill": {
     "duration": 2.385559,
     "end_time": "2025-04-07T20:01:59.890299",
     "exception": false,
     "start_time": "2025-04-07T20:01:57.504740",
     "status": "completed"
    },
    "tags": []
   },
   "outputs": [
    {
     "data": {
      "text/html": [
       "<div>\n",
       "<style scoped>\n",
       "    .dataframe tbody tr th:only-of-type {\n",
       "        vertical-align: middle;\n",
       "    }\n",
       "\n",
       "    .dataframe tbody tr th {\n",
       "        vertical-align: top;\n",
       "    }\n",
       "\n",
       "    .dataframe thead th {\n",
       "        text-align: right;\n",
       "    }\n",
       "</style>\n",
       "<table border=\"1\" class=\"dataframe\">\n",
       "  <thead>\n",
       "    <tr style=\"text-align: right;\">\n",
       "      <th></th>\n",
       "      <th>classification_diagnostic</th>\n",
       "    </tr>\n",
       "    <tr>\n",
       "      <th>ID_ARBRE</th>\n",
       "      <th></th>\n",
       "    </tr>\n",
       "  </thead>\n",
       "  <tbody>\n",
       "    <tr>\n",
       "      <th>559</th>\n",
       "      <td>C2</td>\n",
       "    </tr>\n",
       "    <tr>\n",
       "      <th>560</th>\n",
       "      <td>C2</td>\n",
       "    </tr>\n",
       "    <tr>\n",
       "      <th>561</th>\n",
       "      <td>C2</td>\n",
       "    </tr>\n",
       "    <tr>\n",
       "      <th>562</th>\n",
       "      <td>C1</td>\n",
       "    </tr>\n",
       "    <tr>\n",
       "      <th>563</th>\n",
       "      <td>C2</td>\n",
       "    </tr>\n",
       "    <tr>\n",
       "      <th>...</th>\n",
       "      <td>...</td>\n",
       "    </tr>\n",
       "    <tr>\n",
       "      <th>694</th>\n",
       "      <td>C2</td>\n",
       "    </tr>\n",
       "    <tr>\n",
       "      <th>695</th>\n",
       "      <td>C1</td>\n",
       "    </tr>\n",
       "    <tr>\n",
       "      <th>696</th>\n",
       "      <td>C2</td>\n",
       "    </tr>\n",
       "    <tr>\n",
       "      <th>697</th>\n",
       "      <td>C2</td>\n",
       "    </tr>\n",
       "    <tr>\n",
       "      <th>698</th>\n",
       "      <td>C1</td>\n",
       "    </tr>\n",
       "  </tbody>\n",
       "</table>\n",
       "<p>137 rows × 1 columns</p>\n",
       "</div>"
      ],
      "text/plain": [
       "         classification_diagnostic\n",
       "ID_ARBRE                          \n",
       "559                             C2\n",
       "560                             C2\n",
       "561                             C2\n",
       "562                             C1\n",
       "563                             C2\n",
       "...                            ...\n",
       "694                             C2\n",
       "695                             C1\n",
       "696                             C2\n",
       "697                             C2\n",
       "698                             C1\n",
       "\n",
       "[137 rows x 1 columns]"
      ]
     },
     "execution_count": 22,
     "metadata": {},
     "output_type": "execute_result"
    }
   ],
   "source": [
    "#Naive Bayes à 4 variables qui s'entraine sur train, et prévoit sur prev, à partir des variables v1, v2, v3 et v4\n",
    "def bayes4(train, prev, v1, v2, v3, v4) :\n",
    "    \n",
    "    #Sélection des \"catégories\", création du DataFrame\n",
    "    labels = np.unique(train['classification_diagnostic'])\n",
    "    df = pd.DataFrame(index = prev.index, columns = ['classification_diagnostic'])\n",
    "    \n",
    "    #Obtention de la classe la plus probable grâce à \"classif4\"\n",
    "    for i in prev.index :\n",
    "        df.loc[i, 'classification_diagnostic'] = classif4(v1,v2,v3,v4,prev.loc[i,v1],prev.loc[i,v2],prev.loc[i,v3], prev.loc[i,v4])\n",
    "\n",
    "    return df\n",
    "\n",
    "bayes4(data, prev_data, 'classe_hauteur', 'classe_age', 'plaie_tronc', 'vigueur_pousse')"
   ]
  },
  {
   "cell_type": "code",
   "execution_count": 23,
   "id": "b4cef0cb",
   "metadata": {
    "execution": {
     "iopub.execute_input": "2025-04-07T20:01:59.914059Z",
     "iopub.status.busy": "2025-04-07T20:01:59.913779Z",
     "iopub.status.idle": "2025-04-07T20:01:59.926866Z",
     "shell.execute_reply": "2025-04-07T20:01:59.926070Z"
    },
    "papermill": {
     "duration": 0.026291,
     "end_time": "2025-04-07T20:01:59.928176",
     "exception": false,
     "start_time": "2025-04-07T20:01:59.901885",
     "status": "completed"
    },
    "tags": []
   },
   "outputs": [
    {
     "data": {
      "text/plain": [
       "64.07073106155472"
      ]
     },
     "execution_count": 23,
     "metadata": {},
     "output_type": "execute_result"
    }
   ],
   "source": [
    "#Fonction calculant un contraste à partir d'un tableau de contingence entre une variable v et classification_diagnostic\n",
    "#C'est une mesure parmi tant d'autres permettant d'estimer le lien entre une variable et classification_diagnostic\n",
    "\n",
    "def contraste(v) :\n",
    "    table = pd.crosstab(data[v], data['classification_diagnostic'], normalize = 'index')*100\n",
    "    return (table.max(axis=1) - table.min(axis=1)).mean() #Calcule la différence entre le min et le max de chaque ligne et renvoie la moyenne de ces différences\n",
    "\n",
    "contraste('type_sol')"
   ]
  },
  {
   "cell_type": "code",
   "execution_count": 24,
   "id": "47ba2ece",
   "metadata": {
    "execution": {
     "iopub.execute_input": "2025-04-07T20:01:59.952362Z",
     "iopub.status.busy": "2025-04-07T20:01:59.952030Z",
     "iopub.status.idle": "2025-04-07T20:01:59.970056Z",
     "shell.execute_reply": "2025-04-07T20:01:59.968879Z"
    },
    "papermill": {
     "duration": 0.031498,
     "end_time": "2025-04-07T20:01:59.971351",
     "exception": false,
     "start_time": "2025-04-07T20:01:59.939853",
     "status": "completed"
    },
    "tags": []
   },
   "outputs": [
    {
     "data": {
      "text/html": [
       "<div>\n",
       "<style scoped>\n",
       "    .dataframe tbody tr th:only-of-type {\n",
       "        vertical-align: middle;\n",
       "    }\n",
       "\n",
       "    .dataframe tbody tr th {\n",
       "        vertical-align: top;\n",
       "    }\n",
       "\n",
       "    .dataframe thead th {\n",
       "        text-align: right;\n",
       "    }\n",
       "</style>\n",
       "<table border=\"1\" class=\"dataframe\">\n",
       "  <thead>\n",
       "    <tr style=\"text-align: right;\">\n",
       "      <th>classification_diagnostic</th>\n",
       "      <th>C1</th>\n",
       "      <th>C2</th>\n",
       "      <th>C3</th>\n",
       "      <th>C4</th>\n",
       "      <th>C5</th>\n",
       "    </tr>\n",
       "    <tr>\n",
       "      <th>observation_houppier</th>\n",
       "      <th></th>\n",
       "      <th></th>\n",
       "      <th></th>\n",
       "      <th></th>\n",
       "      <th></th>\n",
       "    </tr>\n",
       "  </thead>\n",
       "  <tbody>\n",
       "    <tr>\n",
       "      <th>0</th>\n",
       "      <td>40.723982</td>\n",
       "      <td>57.013575</td>\n",
       "      <td>1.809955</td>\n",
       "      <td>0.226244</td>\n",
       "      <td>0.226244</td>\n",
       "    </tr>\n",
       "    <tr>\n",
       "      <th>Affaiblissement physiologique important</th>\n",
       "      <td>0.000000</td>\n",
       "      <td>28.000000</td>\n",
       "      <td>60.000000</td>\n",
       "      <td>8.000000</td>\n",
       "      <td>4.000000</td>\n",
       "    </tr>\n",
       "    <tr>\n",
       "      <th>Allongement des branches</th>\n",
       "      <td>50.000000</td>\n",
       "      <td>50.000000</td>\n",
       "      <td>0.000000</td>\n",
       "      <td>0.000000</td>\n",
       "      <td>0.000000</td>\n",
       "    </tr>\n",
       "    <tr>\n",
       "      <th>Axe 3 Mort 2M Nord</th>\n",
       "      <td>0.000000</td>\n",
       "      <td>81.818182</td>\n",
       "      <td>18.181818</td>\n",
       "      <td>0.000000</td>\n",
       "      <td>0.000000</td>\n",
       "    </tr>\n",
       "    <tr>\n",
       "      <th>Axe2 dépassement dans la résidence mitoyenne</th>\n",
       "      <td>0.000000</td>\n",
       "      <td>100.000000</td>\n",
       "      <td>0.000000</td>\n",
       "      <td>0.000000</td>\n",
       "      <td>0.000000</td>\n",
       "    </tr>\n",
       "    <tr>\n",
       "      <th>Bonne vigueur</th>\n",
       "      <td>0.000000</td>\n",
       "      <td>100.000000</td>\n",
       "      <td>0.000000</td>\n",
       "      <td>0.000000</td>\n",
       "      <td>0.000000</td>\n",
       "    </tr>\n",
       "    <tr>\n",
       "      <th>Branches cassées</th>\n",
       "      <td>14.285714</td>\n",
       "      <td>85.714286</td>\n",
       "      <td>0.000000</td>\n",
       "      <td>0.000000</td>\n",
       "      <td>0.000000</td>\n",
       "    </tr>\n",
       "    <tr>\n",
       "      <th>Cavité ouverte</th>\n",
       "      <td>0.000000</td>\n",
       "      <td>0.000000</td>\n",
       "      <td>100.000000</td>\n",
       "      <td>0.000000</td>\n",
       "      <td>0.000000</td>\n",
       "    </tr>\n",
       "    <tr>\n",
       "      <th>Déchirure</th>\n",
       "      <td>0.000000</td>\n",
       "      <td>100.000000</td>\n",
       "      <td>0.000000</td>\n",
       "      <td>0.000000</td>\n",
       "      <td>0.000000</td>\n",
       "    </tr>\n",
       "    <tr>\n",
       "      <th>Fissure ouverte axe2 2M Sud Est</th>\n",
       "      <td>0.000000</td>\n",
       "      <td>0.000000</td>\n",
       "      <td>0.000000</td>\n",
       "      <td>50.000000</td>\n",
       "      <td>50.000000</td>\n",
       "    </tr>\n",
       "    <tr>\n",
       "      <th>Houppier clairsemé</th>\n",
       "      <td>0.000000</td>\n",
       "      <td>100.000000</td>\n",
       "      <td>0.000000</td>\n",
       "      <td>0.000000</td>\n",
       "      <td>0.000000</td>\n",
       "    </tr>\n",
       "    <tr>\n",
       "      <th>Lierre</th>\n",
       "      <td>0.000000</td>\n",
       "      <td>50.000000</td>\n",
       "      <td>0.000000</td>\n",
       "      <td>0.000000</td>\n",
       "      <td>50.000000</td>\n",
       "    </tr>\n",
       "    <tr>\n",
       "      <th>Phellin du fruitier</th>\n",
       "      <td>0.000000</td>\n",
       "      <td>0.000000</td>\n",
       "      <td>25.000000</td>\n",
       "      <td>75.000000</td>\n",
       "      <td>0.000000</td>\n",
       "    </tr>\n",
       "    <tr>\n",
       "      <th>Plaie longitudinale</th>\n",
       "      <td>0.000000</td>\n",
       "      <td>100.000000</td>\n",
       "      <td>0.000000</td>\n",
       "      <td>0.000000</td>\n",
       "      <td>0.000000</td>\n",
       "    </tr>\n",
       "    <tr>\n",
       "      <th>Réitération traumatique</th>\n",
       "      <td>0.000000</td>\n",
       "      <td>100.000000</td>\n",
       "      <td>0.000000</td>\n",
       "      <td>0.000000</td>\n",
       "      <td>0.000000</td>\n",
       "    </tr>\n",
       "    <tr>\n",
       "      <th>Tuteur de formation</th>\n",
       "      <td>66.666667</td>\n",
       "      <td>33.333333</td>\n",
       "      <td>0.000000</td>\n",
       "      <td>0.000000</td>\n",
       "      <td>0.000000</td>\n",
       "    </tr>\n",
       "    <tr>\n",
       "      <th>Échaudure</th>\n",
       "      <td>0.000000</td>\n",
       "      <td>100.000000</td>\n",
       "      <td>0.000000</td>\n",
       "      <td>0.000000</td>\n",
       "      <td>0.000000</td>\n",
       "    </tr>\n",
       "    <tr>\n",
       "      <th>Écorce incluse</th>\n",
       "      <td>0.000000</td>\n",
       "      <td>0.000000</td>\n",
       "      <td>100.000000</td>\n",
       "      <td>0.000000</td>\n",
       "      <td>0.000000</td>\n",
       "    </tr>\n",
       "  </tbody>\n",
       "</table>\n",
       "</div>"
      ],
      "text/plain": [
       "classification_diagnostic                            C1          C2  \\\n",
       "observation_houppier                                                  \n",
       "0                                             40.723982   57.013575   \n",
       "Affaiblissement physiologique important        0.000000   28.000000   \n",
       "Allongement des branches                      50.000000   50.000000   \n",
       "Axe 3 Mort 2M Nord                             0.000000   81.818182   \n",
       "Axe2 dépassement dans la résidence mitoyenne   0.000000  100.000000   \n",
       "Bonne vigueur                                  0.000000  100.000000   \n",
       "Branches cassées                              14.285714   85.714286   \n",
       "Cavité ouverte                                 0.000000    0.000000   \n",
       "Déchirure                                      0.000000  100.000000   \n",
       "Fissure ouverte axe2 2M Sud Est                0.000000    0.000000   \n",
       "Houppier clairsemé                             0.000000  100.000000   \n",
       "Lierre                                         0.000000   50.000000   \n",
       "Phellin du fruitier                            0.000000    0.000000   \n",
       "Plaie longitudinale                            0.000000  100.000000   \n",
       "Réitération traumatique                        0.000000  100.000000   \n",
       "Tuteur de formation                           66.666667   33.333333   \n",
       "Échaudure                                      0.000000  100.000000   \n",
       "Écorce incluse                                 0.000000    0.000000   \n",
       "\n",
       "classification_diagnostic                             C3         C4         C5  \n",
       "observation_houppier                                                            \n",
       "0                                               1.809955   0.226244   0.226244  \n",
       "Affaiblissement physiologique important        60.000000   8.000000   4.000000  \n",
       "Allongement des branches                        0.000000   0.000000   0.000000  \n",
       "Axe 3 Mort 2M Nord                             18.181818   0.000000   0.000000  \n",
       "Axe2 dépassement dans la résidence mitoyenne    0.000000   0.000000   0.000000  \n",
       "Bonne vigueur                                   0.000000   0.000000   0.000000  \n",
       "Branches cassées                                0.000000   0.000000   0.000000  \n",
       "Cavité ouverte                                100.000000   0.000000   0.000000  \n",
       "Déchirure                                       0.000000   0.000000   0.000000  \n",
       "Fissure ouverte axe2 2M Sud Est                 0.000000  50.000000  50.000000  \n",
       "Houppier clairsemé                              0.000000   0.000000   0.000000  \n",
       "Lierre                                          0.000000   0.000000  50.000000  \n",
       "Phellin du fruitier                            25.000000  75.000000   0.000000  \n",
       "Plaie longitudinale                             0.000000   0.000000   0.000000  \n",
       "Réitération traumatique                         0.000000   0.000000   0.000000  \n",
       "Tuteur de formation                             0.000000   0.000000   0.000000  \n",
       "Échaudure                                       0.000000   0.000000   0.000000  \n",
       "Écorce incluse                                100.000000   0.000000   0.000000  "
      ]
     },
     "execution_count": 24,
     "metadata": {},
     "output_type": "execute_result"
    }
   ],
   "source": [
    "#Exemple de tableau de contingence entre observation_houppier et classification_diagnostic\n",
    "pd.crosstab(data['observation_houppier'], data['classification_diagnostic'], normalize = 'index')*100"
   ]
  },
  {
   "cell_type": "code",
   "execution_count": 25,
   "id": "955cf236",
   "metadata": {
    "execution": {
     "iopub.execute_input": "2025-04-07T20:01:59.996027Z",
     "iopub.status.busy": "2025-04-07T20:01:59.995729Z",
     "iopub.status.idle": "2025-04-07T20:02:00.166583Z",
     "shell.execute_reply": "2025-04-07T20:02:00.165528Z"
    },
    "papermill": {
     "duration": 0.184667,
     "end_time": "2025-04-07T20:02:00.167888",
     "exception": false,
     "start_time": "2025-04-07T20:01:59.983221",
     "status": "completed"
    },
    "tags": []
   },
   "outputs": [
    {
     "data": {
      "text/plain": [
       "{'type_sol': 64.07073106155472,\n",
       " 'classe_age': 70.77868852459017,\n",
       " 'classe_hauteur': 59.96530843994333,\n",
       " 'classe_circonference': 75.30880277868229,\n",
       " 'port_arbre': 62.04783871391142,\n",
       " 'vigueur_pousse': 57.3802489313553,\n",
       " 'plaie_collet': 79.54784679703741,\n",
       " 'fissure_tronc': 69.10043130006162,\n",
       " 'plaie_tronc': 67.15137158186224,\n",
       " 'fissure_houppier': 69.10043130006162,\n",
       " 'bois_mort_houppier': 50.39290812110284,\n",
       " 'plaie_houppier': 70.30062034185745,\n",
       " 'champignon_collet': 57.714817770683695,\n",
       " 'insecte_collet': 56.8014705882353,\n",
       " 'observation_collet': 68.50401971478205,\n",
       " 'champignon_tronc': 78.5451197053407,\n",
       " 'insecte_tronc': 56.8014705882353,\n",
       " 'rejet_tronc': 66.87620045398987,\n",
       " 'tuteurage_arbre': 83.77650830182476,\n",
       " 'canisse_arbre': 77.11827007943513,\n",
       " 'observation_tronc': 70.61495485688673,\n",
       " 'champignon_houppier': 66.2962962962963,\n",
       " 'insecte_houppier': 56.8014705882353,\n",
       " 'ecorce_incluse_houppier': 78.50553505535055,\n",
       " 'observation_houppier': 81.99924802865979,\n",
       " 'contrainte': 48.62695395014787}"
      ]
     },
     "execution_count": 25,
     "metadata": {},
     "output_type": "execute_result"
    }
   ],
   "source": [
    "#Dictionnaire avec la variable et son contraste\n",
    "#Les variables ayant un grand contraste sont plus interessantes à soumettre, car leurs predictions sont plus certaines\n",
    "\n",
    "dico = {'type_sol' : contraste('type_sol'),\n",
    " 'classe_age' : contraste('classe_age'),\n",
    " 'classe_hauteur' : contraste('classe_hauteur'),\n",
    " 'classe_circonference' : contraste('classe_circonference'),\n",
    " 'port_arbre' : contraste('port_arbre'),\n",
    " 'vigueur_pousse' : contraste('vigueur_pousse'),\n",
    " 'plaie_collet' : contraste('plaie_collet'),\n",
    " 'fissure_tronc' : contraste('fissure_tronc'),\n",
    " 'plaie_tronc' : contraste('plaie_tronc'),\n",
    " 'fissure_houppier' : contraste('fissure_houppier'),\n",
    " 'bois_mort_houppier' : contraste('bois_mort_houppier'), \n",
    " 'plaie_houppier' : contraste('plaie_houppier'),\n",
    " 'champignon_collet' : contraste('champignon_collet'),\n",
    " 'insecte_collet' : contraste('insecte_collet'),\n",
    " 'plaie_collet' : contraste('plaie_collet'),        \n",
    " 'observation_collet' : contraste('observation_collet'),\n",
    " 'champignon_tronc' : contraste('champignon_tronc'),       \n",
    " 'insecte_tronc' : contraste('insecte_tronc'),\n",
    " 'fissure_tronc' : contraste('fissure_tronc'),      \n",
    " 'rejet_tronc' : contraste('rejet_tronc'),\n",
    " 'tuteurage_arbre' : contraste('tuteurage_arbre'),\n",
    " 'canisse_arbre' : contraste('canisse_arbre'),\n",
    " 'plaie_tronc' : contraste('plaie_tronc'),        \n",
    " 'observation_tronc' : contraste('observation_tronc'),\n",
    " 'champignon_houppier' : contraste('champignon_houppier'),       \n",
    " 'insecte_houppier' : contraste('insecte_houppier'),\n",
    " 'fissure_houppier' : contraste('fissure_houppier'),        \n",
    " 'ecorce_incluse_houppier' : contraste('ecorce_incluse_houppier'),        \n",
    " 'bois_mort_houppier' : contraste('bois_mort_houppier'),\n",
    " 'plaie_houppier' : contraste('plaie_houppier'),       \n",
    " 'observation_houppier' : contraste('observation_houppier'),\n",
    " 'contrainte' : contraste('contrainte')}\n",
    "\n",
    "dico"
   ]
  },
  {
   "cell_type": "markdown",
   "id": "6333fd66",
   "metadata": {
    "papermill": {
     "duration": 0.012509,
     "end_time": "2025-04-07T20:02:00.192268",
     "exception": false,
     "start_time": "2025-04-07T20:02:00.179759",
     "status": "completed"
    },
    "tags": []
   },
   "source": [
    "Notre meilleure soumission avec naive bayes est avec les 4 variables suivantes :\n",
    "canisse_arbre\n",
    "plaie_houppier\n",
    "plaie_collet\n",
    "classe_circonference"
   ]
  },
  {
   "cell_type": "code",
   "execution_count": 26,
   "id": "d3d78d44",
   "metadata": {
    "execution": {
     "iopub.execute_input": "2025-04-07T20:02:00.216518Z",
     "iopub.status.busy": "2025-04-07T20:02:00.216252Z",
     "iopub.status.idle": "2025-04-07T20:02:00.226387Z",
     "shell.execute_reply": "2025-04-07T20:02:00.225662Z"
    },
    "papermill": {
     "duration": 0.023785,
     "end_time": "2025-04-07T20:02:00.227527",
     "exception": false,
     "start_time": "2025-04-07T20:02:00.203742",
     "status": "completed"
    },
    "tags": []
   },
   "outputs": [
    {
     "data": {
      "text/html": [
       "<div>\n",
       "<style scoped>\n",
       "    .dataframe tbody tr th:only-of-type {\n",
       "        vertical-align: middle;\n",
       "    }\n",
       "\n",
       "    .dataframe tbody tr th {\n",
       "        vertical-align: top;\n",
       "    }\n",
       "\n",
       "    .dataframe thead th {\n",
       "        text-align: right;\n",
       "    }\n",
       "</style>\n",
       "<table border=\"1\" class=\"dataframe\">\n",
       "  <thead>\n",
       "    <tr style=\"text-align: right;\">\n",
       "      <th></th>\n",
       "      <th>classification_diagnostic</th>\n",
       "    </tr>\n",
       "    <tr>\n",
       "      <th>ID_ARBRE</th>\n",
       "      <th></th>\n",
       "    </tr>\n",
       "  </thead>\n",
       "  <tbody>\n",
       "    <tr>\n",
       "      <th>559</th>\n",
       "      <td>C2</td>\n",
       "    </tr>\n",
       "    <tr>\n",
       "      <th>560</th>\n",
       "      <td>C2</td>\n",
       "    </tr>\n",
       "    <tr>\n",
       "      <th>561</th>\n",
       "      <td>C2</td>\n",
       "    </tr>\n",
       "    <tr>\n",
       "      <th>562</th>\n",
       "      <td>C2</td>\n",
       "    </tr>\n",
       "    <tr>\n",
       "      <th>563</th>\n",
       "      <td>C2</td>\n",
       "    </tr>\n",
       "  </tbody>\n",
       "</table>\n",
       "</div>"
      ],
      "text/plain": [
       "         classification_diagnostic\n",
       "ID_ARBRE                          \n",
       "559                             C2\n",
       "560                             C2\n",
       "561                             C2\n",
       "562                             C2\n",
       "563                             C2"
      ]
     },
     "execution_count": 26,
     "metadata": {},
     "output_type": "execute_result"
    }
   ],
   "source": [
    "#Modèle pour soumettre à Kaggle\n",
    "\n",
    "prev_data2 = pd.DataFrame(prev_data, columns = ['classification_diagnostic'])\n",
    "prev_data2['classification_diagnostic'] = 'C2'\n",
    "prev_data2.to_csv('prev_data2.csv', index = True, index_label = 'ID_ARBRE')\n",
    "\n",
    "prev_data2.head()"
   ]
  },
  {
   "cell_type": "code",
   "execution_count": 27,
   "id": "0a056802",
   "metadata": {
    "execution": {
     "iopub.execute_input": "2025-04-07T20:02:00.252905Z",
     "iopub.status.busy": "2025-04-07T20:02:00.252572Z",
     "iopub.status.idle": "2025-04-07T20:02:02.582959Z",
     "shell.execute_reply": "2025-04-07T20:02:02.581646Z"
    },
    "papermill": {
     "duration": 2.344953,
     "end_time": "2025-04-07T20:02:02.584650",
     "exception": false,
     "start_time": "2025-04-07T20:02:00.239697",
     "status": "completed"
    },
    "tags": []
   },
   "outputs": [
    {
     "data": {
      "text/html": [
       "<div>\n",
       "<style scoped>\n",
       "    .dataframe tbody tr th:only-of-type {\n",
       "        vertical-align: middle;\n",
       "    }\n",
       "\n",
       "    .dataframe tbody tr th {\n",
       "        vertical-align: top;\n",
       "    }\n",
       "\n",
       "    .dataframe thead th {\n",
       "        text-align: right;\n",
       "    }\n",
       "</style>\n",
       "<table border=\"1\" class=\"dataframe\">\n",
       "  <thead>\n",
       "    <tr style=\"text-align: right;\">\n",
       "      <th></th>\n",
       "      <th>classification_diagnostic</th>\n",
       "    </tr>\n",
       "    <tr>\n",
       "      <th>ID_ARBRE</th>\n",
       "      <th></th>\n",
       "    </tr>\n",
       "  </thead>\n",
       "  <tbody>\n",
       "    <tr>\n",
       "      <th>559</th>\n",
       "      <td>C2</td>\n",
       "    </tr>\n",
       "    <tr>\n",
       "      <th>560</th>\n",
       "      <td>C1</td>\n",
       "    </tr>\n",
       "    <tr>\n",
       "      <th>561</th>\n",
       "      <td>C2</td>\n",
       "    </tr>\n",
       "    <tr>\n",
       "      <th>562</th>\n",
       "      <td>C1</td>\n",
       "    </tr>\n",
       "    <tr>\n",
       "      <th>563</th>\n",
       "      <td>C4</td>\n",
       "    </tr>\n",
       "  </tbody>\n",
       "</table>\n",
       "</div>"
      ],
      "text/plain": [
       "         classification_diagnostic\n",
       "ID_ARBRE                          \n",
       "559                             C2\n",
       "560                             C1\n",
       "561                             C2\n",
       "562                             C1\n",
       "563                             C4"
      ]
     },
     "execution_count": 27,
     "metadata": {},
     "output_type": "execute_result"
    }
   ],
   "source": [
    "#Soumission de bayes à partir de port_arbre, classe_hauteur, plaie_collet, fissure_houppier\n",
    "\n",
    "prev_por_hau_col_hou = pd.DataFrame(prev_data, columns = ['classification_diagnostic'])\n",
    "prev_por_hau_col_hou['classification_diagnostic'] = bayes4(data, prev_data, 'port_arbre', 'classe_hauteur', 'plaie_collet', 'fissure_houppier')\n",
    "prev_por_hau_col_hou.to_csv('prev_por_hau_col_hou.csv', index = True, index_label = 'ID_ARBRE')\n",
    "\n",
    "prev_por_hau_col_hou.head()"
   ]
  },
  {
   "cell_type": "markdown",
   "id": "7dfc90de",
   "metadata": {
    "papermill": {
     "duration": 0.01155,
     "end_time": "2025-04-07T20:02:02.608694",
     "exception": false,
     "start_time": "2025-04-07T20:02:02.597144",
     "status": "completed"
    },
    "tags": []
   },
   "source": [
    "# Algorithme de knn"
   ]
  },
  {
   "cell_type": "code",
   "execution_count": 28,
   "id": "0bbf3660",
   "metadata": {
    "execution": {
     "iopub.execute_input": "2025-04-07T20:02:02.633451Z",
     "iopub.status.busy": "2025-04-07T20:02:02.633149Z",
     "iopub.status.idle": "2025-04-07T20:02:02.637338Z",
     "shell.execute_reply": "2025-04-07T20:02:02.636571Z"
    },
    "papermill": {
     "duration": 0.018546,
     "end_time": "2025-04-07T20:02:02.639011",
     "exception": false,
     "start_time": "2025-04-07T20:02:02.620465",
     "status": "completed"
    },
    "tags": []
   },
   "outputs": [],
   "source": [
    "#Liste de toutes les variables catégorielles\n",
    "\n",
    "var_cat = ['quartier','site','genre_arbre','situation','type_sol','classe_age','classe_hauteur','classe_circonference','port_arbre','vigueur_pousse','champignon_collet','insecte_collet','plaie_collet','observation_collet','champignon_tronc','insecte_tronc','fissure_tronc','rejet_tronc','tuteurage_arbre','canisse_arbre','plaie_tronc','observation_tronc','champignon_houppier','insecte_houppier','fissure_houppier','ecorce_incluse_houppier','bois_mort_houppier','plaie_houppier','observation_houppier','contrainte']"
   ]
  },
  {
   "cell_type": "code",
   "execution_count": 29,
   "id": "fe1b52ef",
   "metadata": {
    "execution": {
     "iopub.execute_input": "2025-04-07T20:02:02.665331Z",
     "iopub.status.busy": "2025-04-07T20:02:02.664983Z",
     "iopub.status.idle": "2025-04-07T20:02:02.669035Z",
     "shell.execute_reply": "2025-04-07T20:02:02.668158Z"
    },
    "papermill": {
     "duration": 0.019116,
     "end_time": "2025-04-07T20:02:02.670950",
     "exception": false,
     "start_time": "2025-04-07T20:02:02.651834",
     "status": "completed"
    },
    "tags": []
   },
   "outputs": [],
   "source": [
    "#Sélection de \"bonnes\" variables catégorielles selon nous\n",
    "\n",
    "var_cat_bon = ['classe_age','classe_circonference','plaie_collet','fissure_tronc','fissure_houppier','plaie_houppier','champignon_tronc','tuteurage_arbre','canisse_arbre','ecorce_incluse_houppier']"
   ]
  },
  {
   "cell_type": "code",
   "execution_count": 30,
   "id": "63b3f111",
   "metadata": {
    "execution": {
     "iopub.execute_input": "2025-04-07T20:02:02.697357Z",
     "iopub.status.busy": "2025-04-07T20:02:02.697007Z",
     "iopub.status.idle": "2025-04-07T20:02:02.700456Z",
     "shell.execute_reply": "2025-04-07T20:02:02.699717Z"
    },
    "papermill": {
     "duration": 0.018104,
     "end_time": "2025-04-07T20:02:02.701896",
     "exception": false,
     "start_time": "2025-04-07T20:02:02.683792",
     "status": "completed"
    },
    "tags": []
   },
   "outputs": [],
   "source": [
    "#Liste de toutes les variables numériques\n",
    "\n",
    "var_num = ['surf_permeable','hauteur','diametre','circonference (en cm)','esperance_maintien','Long','Lat']"
   ]
  },
  {
   "cell_type": "code",
   "execution_count": 31,
   "id": "970133ec",
   "metadata": {
    "execution": {
     "iopub.execute_input": "2025-04-07T20:02:02.727899Z",
     "iopub.status.busy": "2025-04-07T20:02:02.727578Z",
     "iopub.status.idle": "2025-04-07T20:02:02.731652Z",
     "shell.execute_reply": "2025-04-07T20:02:02.730672Z"
    },
    "papermill": {
     "duration": 0.018593,
     "end_time": "2025-04-07T20:02:02.732973",
     "exception": false,
     "start_time": "2025-04-07T20:02:02.714380",
     "status": "completed"
    },
    "tags": []
   },
   "outputs": [],
   "source": [
    "#Sélection de \"bonnes\" variables numériques selon nous\n",
    "\n",
    "var_num_bon = ['surf_permeable','surf_permeable','hauteur','diametre','circonference (en cm)','circonference (en cm)','circonference (en cm)','esperance_maintien','esperance_maintien']"
   ]
  },
  {
   "cell_type": "code",
   "execution_count": 32,
   "id": "89f3363a",
   "metadata": {
    "execution": {
     "iopub.execute_input": "2025-04-07T20:02:02.758437Z",
     "iopub.status.busy": "2025-04-07T20:02:02.758037Z",
     "iopub.status.idle": "2025-04-07T20:02:02.761735Z",
     "shell.execute_reply": "2025-04-07T20:02:02.760915Z"
    },
    "papermill": {
     "duration": 0.017439,
     "end_time": "2025-04-07T20:02:02.762833",
     "exception": false,
     "start_time": "2025-04-07T20:02:02.745394",
     "status": "completed"
    },
    "tags": []
   },
   "outputs": [],
   "source": [
    "#Les 4 variables qui ont le mieux marché avec Bayes\n",
    "var_cat_bay = ['canisse_arbre', 'plaie_houppier', 'plaie_collet', 'classe_circonference']"
   ]
  },
  {
   "cell_type": "code",
   "execution_count": 33,
   "id": "4f2830c6",
   "metadata": {
    "execution": {
     "iopub.execute_input": "2025-04-07T20:02:02.787167Z",
     "iopub.status.busy": "2025-04-07T20:02:02.786809Z",
     "iopub.status.idle": "2025-04-07T20:02:02.792119Z",
     "shell.execute_reply": "2025-04-07T20:02:02.791089Z"
    },
    "papermill": {
     "duration": 0.01911,
     "end_time": "2025-04-07T20:02:02.793425",
     "exception": false,
     "start_time": "2025-04-07T20:02:02.774315",
     "status": "completed"
    },
    "tags": []
   },
   "outputs": [],
   "source": [
    "#Pour la validation croisée, on sépare le tableau en 2, de deux manières différentes \n",
    "\n",
    "#Séparation du tableau en 2, 80% pour l'apprentissage / 20% pour la validation\n",
    "\n",
    "N80 = int ((len(data) + 1) * 0.8) #Rang séparant les 80 premiers pourcents des 20 restants\n",
    "\n",
    "X_train80 = data[:N80]\n",
    "X_test20 = data[N80:]\n",
    "\n",
    "#Séparation du tableau en 2, 25% pour la validation / 75% pour l'apprentissage\n",
    "\n",
    "N25 = int ((len(data) + 1) * 0.25) #Rang séparant les 25 premiers pourcents des 75 restants\n",
    "\n",
    "X_train75 = data[N25:]\n",
    "X_test25 = data[:N25]"
   ]
  },
  {
   "cell_type": "code",
   "execution_count": 34,
   "id": "8993d90e",
   "metadata": {
    "execution": {
     "iopub.execute_input": "2025-04-07T20:02:02.817574Z",
     "iopub.status.busy": "2025-04-07T20:02:02.817206Z",
     "iopub.status.idle": "2025-04-07T20:02:02.824697Z",
     "shell.execute_reply": "2025-04-07T20:02:02.823691Z"
    },
    "papermill": {
     "duration": 0.021055,
     "end_time": "2025-04-07T20:02:02.825961",
     "exception": false,
     "start_time": "2025-04-07T20:02:02.804906",
     "status": "completed"
    },
    "tags": []
   },
   "outputs": [],
   "source": [
    "#Tableaux pour la validation croisée\n",
    "\n",
    "Y_train80 = X_train80['classification_diagnostic']\n",
    "Y_test20 = X_test20['classification_diagnostic']\n",
    "\n",
    "Y_train80 = X_train80['classification_diagnostic']\n",
    "Y_test20 = X_test20['classification_diagnostic']\n",
    "\n",
    "Y_train75 = X_train75['classification_diagnostic']\n",
    "Y_test25 = X_test25['classification_diagnostic']\n",
    "\n",
    "\n",
    "\n",
    "#Tableaux pour la soumission à Kaggle\n",
    "\n",
    "X_data_cat = data[var_cat]\n",
    "X_data_num = data[var_num]\n",
    "\n",
    "X_prev_data_cat = prev_data[var_cat]\n",
    "X_prev_data_num = prev_data[var_num]\n",
    "\n",
    "Y_data = data['classification_diagnostic']"
   ]
  },
  {
   "cell_type": "code",
   "execution_count": 35,
   "id": "05c07f0e",
   "metadata": {
    "execution": {
     "iopub.execute_input": "2025-04-07T20:02:02.850398Z",
     "iopub.status.busy": "2025-04-07T20:02:02.850020Z",
     "iopub.status.idle": "2025-04-07T20:02:02.854099Z",
     "shell.execute_reply": "2025-04-07T20:02:02.853354Z"
    },
    "papermill": {
     "duration": 0.017616,
     "end_time": "2025-04-07T20:02:02.855343",
     "exception": false,
     "start_time": "2025-04-07T20:02:02.837727",
     "status": "completed"
    },
    "tags": []
   },
   "outputs": [],
   "source": [
    "#Fonctions pour calculer les distances selon le type de variables\n",
    "\n",
    "#Distance catégorielle, on compte le nombre de différences\n",
    "def distance_cat(u,v) :\n",
    "    return np.sum(u != v) \n",
    "\n",
    "#Distance numérique, on calcule la distance euclidienne\n",
    "def distance_num(u,v) :\n",
    "    return np.sqrt(np.sum((u - v) ** 2))"
   ]
  },
  {
   "cell_type": "code",
   "execution_count": 36,
   "id": "70e2a9e5",
   "metadata": {
    "execution": {
     "iopub.execute_input": "2025-04-07T20:02:02.882161Z",
     "iopub.status.busy": "2025-04-07T20:02:02.881797Z",
     "iopub.status.idle": "2025-04-07T20:02:02.886007Z",
     "shell.execute_reply": "2025-04-07T20:02:02.885165Z"
    },
    "papermill": {
     "duration": 0.018739,
     "end_time": "2025-04-07T20:02:02.887442",
     "exception": false,
     "start_time": "2025-04-07T20:02:02.868703",
     "status": "completed"
    },
    "tags": []
   },
   "outputs": [],
   "source": [
    "#Fonction qui normalise les variables numériques\n",
    "\n",
    "def normaliser(X, variables) :\n",
    "    X_n = X.copy()\n",
    "    for v in variables :\n",
    "        mean = X_n[v].mean() #On calcule la moyenne\n",
    "        std = X_n[v].std() #On calcule l'écart-type\n",
    "        X_n[v] = (X_n[v] - mean) / std #On centre les variables autour de 0, et on les réduit à un écart type de 1\n",
    "    return X_n"
   ]
  },
  {
   "cell_type": "code",
   "execution_count": 37,
   "id": "c51c8469",
   "metadata": {
    "execution": {
     "iopub.execute_input": "2025-04-07T20:02:02.912594Z",
     "iopub.status.busy": "2025-04-07T20:02:02.912257Z",
     "iopub.status.idle": "2025-04-07T20:02:02.917510Z",
     "shell.execute_reply": "2025-04-07T20:02:02.916518Z"
    },
    "papermill": {
     "duration": 0.019235,
     "end_time": "2025-04-07T20:02:02.919027",
     "exception": false,
     "start_time": "2025-04-07T20:02:02.899792",
     "status": "completed"
    },
    "tags": []
   },
   "outputs": [],
   "source": [
    "#Fonction renvoyant la classe majoritaire entre 2 options, version manuelle\n",
    "\n",
    "def classe_majoritaire_2(base):\n",
    "    i : int\n",
    "    s0 : int = 0\n",
    "    s1 : int = 0\n",
    "\n",
    "    #On compte les occurences des deux options\n",
    "    for i in base :\n",
    "        if i == 0 :\n",
    "            s0=s0+1\n",
    "        else:\n",
    "            s1=s1+1\n",
    "            \n",
    "    #On renvoie l'option la plus fréquente\n",
    "    if max(s0,s1)==s0:\n",
    "        return 0\n",
    "    else:\n",
    "        return 1\n",
    "        \n",
    "#Fonction renvoyant la classe majoritaire entre plusieurs options (version automatisée et étendue de classe_majoritaire_2)\n",
    "\n",
    "def classe_majoritaire(base):\n",
    "    base = np.array(base) \n",
    "    valeurs_uniques, comptes = np.unique(base, return_counts=True) #On note toutes les options différentes, et on compte leurs occurrences\n",
    "    return valeurs_uniques[np.argmax(comptes)] #On renvoie l'indice de l'option la plus fréquente"
   ]
  },
  {
   "cell_type": "code",
   "execution_count": 38,
   "id": "27f1c0d8",
   "metadata": {
    "execution": {
     "iopub.execute_input": "2025-04-07T20:02:02.944183Z",
     "iopub.status.busy": "2025-04-07T20:02:02.943806Z",
     "iopub.status.idle": "2025-04-07T20:02:02.949243Z",
     "shell.execute_reply": "2025-04-07T20:02:02.948132Z"
    },
    "papermill": {
     "duration": 0.01949,
     "end_time": "2025-04-07T20:02:02.950508",
     "exception": false,
     "start_time": "2025-04-07T20:02:02.931018",
     "status": "completed"
    },
    "tags": []
   },
   "outputs": [],
   "source": [
    "#Algorithme de knn qui s'entraine sur X_train et Y_train, et prévoit sur X_prev, à partir de variables numériques, en prenant k voisins\n",
    "\n",
    "def knn_num(X_train, Y_train, X_prev, variables, k):\n",
    "    \n",
    "    #On normalise les données\n",
    "    X_train = normaliser(X_train, variables)\n",
    "    X_prev = normaliser(X_prev, variables)\n",
    "    \n",
    "    #On convertit les dataframes en tableaux numpy\n",
    "    X_train = X_train[variables].to_numpy()\n",
    "    X_prev = X_prev[variables].to_numpy()\n",
    "    Y_train = Y_train.to_numpy()\n",
    "    \n",
    "    predictions = []\n",
    "\n",
    "    #Pour chaque donnée à prédire, on...\n",
    "    for x_prev in X_prev:\n",
    "        \n",
    "        distances = [distance_num(x_prev, x_train) for x_train in X_train] #calcule les distances aux données d'apprentissage\n",
    "        indices = np.argsort(distances)[:k] #séléctionne uniquement les k plus proches\n",
    "        labels = [Y_train[i] for i in indices] #récupère les \"classification_diagnostic\" de ces k plus proches\n",
    "        pred = classe_majoritaire(labels) #conserve la \"classification_diagnostic\" la plus fréquente \n",
    "        predictions.append(pred) #affecte cette prédiction à notre vecteur\n",
    "    \n",
    "    return predictions"
   ]
  },
  {
   "cell_type": "code",
   "execution_count": 39,
   "id": "7901ff92",
   "metadata": {
    "execution": {
     "iopub.execute_input": "2025-04-07T20:02:02.975468Z",
     "iopub.status.busy": "2025-04-07T20:02:02.975105Z",
     "iopub.status.idle": "2025-04-07T20:02:02.979878Z",
     "shell.execute_reply": "2025-04-07T20:02:02.979093Z"
    },
    "papermill": {
     "duration": 0.018836,
     "end_time": "2025-04-07T20:02:02.981386",
     "exception": false,
     "start_time": "2025-04-07T20:02:02.962550",
     "status": "completed"
    },
    "tags": []
   },
   "outputs": [],
   "source": [
    "#Algorithme de knn qui s'entraine sur X_train et Y_train, et prévoit sur X_prev, à partir de variables catégorielles, en prenant k voisins\n",
    "\n",
    "def knn_cat(X_train, Y_train, X_prev, variables, k) :\n",
    "    \n",
    "    #On convertit les dataframes en tableaux numpy\n",
    "    X_train = X_train[variables].to_numpy()\n",
    "    X_prev = X_prev[variables].to_numpy()\n",
    "    Y_train = Y_train.to_numpy()\n",
    "    \n",
    "    predictions = []\n",
    "    \n",
    "    #Pour chaque donnée à prédire, on...\n",
    "    for x_prev in X_prev :\n",
    "        \n",
    "        distances = [distance_cat(x_prev,x_train) for x_train in X_train] #calcule les distances aux données d'apprentissage\n",
    "        indices = np.argsort(distances)[:k] #séléctionne uniquement les k plus proches\n",
    "        labels = [Y_train[i] for i in indices] #récupère les \"classification_diagnostic\" de ces k plus proches\n",
    "        pred = classe_majoritaire(labels) #conserve la \"classification_diagnostic\" la plus fréquente\n",
    "        predictions.append(pred) #affecte cette prédiction à notre vecteur\n",
    "    \n",
    "    return predictions"
   ]
  },
  {
   "cell_type": "code",
   "execution_count": 40,
   "id": "68bb8680",
   "metadata": {
    "execution": {
     "iopub.execute_input": "2025-04-07T20:02:03.008628Z",
     "iopub.status.busy": "2025-04-07T20:02:03.008296Z",
     "iopub.status.idle": "2025-04-07T20:02:03.011556Z",
     "shell.execute_reply": "2025-04-07T20:02:03.010780Z"
    },
    "papermill": {
     "duration": 0.018193,
     "end_time": "2025-04-07T20:02:03.012770",
     "exception": false,
     "start_time": "2025-04-07T20:02:02.994577",
     "status": "completed"
    },
    "tags": []
   },
   "outputs": [],
   "source": [
    "#Execution de l'algorithme knn\n",
    "\n",
    "#knn_cat(X_train80, Y_train80, X_test20, var_cat, 5)\n",
    "#knn_num(X_train80, Y_train80, X_test20, var_num, 5)"
   ]
  },
  {
   "cell_type": "code",
   "execution_count": 41,
   "id": "ca709a11",
   "metadata": {
    "execution": {
     "iopub.execute_input": "2025-04-07T20:02:03.038731Z",
     "iopub.status.busy": "2025-04-07T20:02:03.038338Z",
     "iopub.status.idle": "2025-04-07T20:02:03.228622Z",
     "shell.execute_reply": "2025-04-07T20:02:03.227581Z"
    },
    "papermill": {
     "duration": 0.204677,
     "end_time": "2025-04-07T20:02:03.229971",
     "exception": false,
     "start_time": "2025-04-07T20:02:03.025294",
     "status": "completed"
    },
    "tags": []
   },
   "outputs": [
    {
     "data": {
      "text/plain": [
       "0.8333333333333334"
      ]
     },
     "execution_count": 41,
     "metadata": {},
     "output_type": "execute_result"
    }
   ],
   "source": [
    "#Fonction qui calcule le taux de succès entre notre prediction et les véritables classifications\n",
    "\n",
    "def succes(prediction, reponse) :\n",
    "    return np.mean(prediction == reponse) #combien de predictions sont identiques à la vraie classification ?\n",
    "\n",
    "succes((knn_cat(X_train80, Y_train80, X_test20, var_cat_bon, 5)), Y_test20)"
   ]
  },
  {
   "cell_type": "code",
   "execution_count": 42,
   "id": "8f4470f2",
   "metadata": {
    "execution": {
     "iopub.execute_input": "2025-04-07T20:02:03.256115Z",
     "iopub.status.busy": "2025-04-07T20:02:03.255760Z",
     "iopub.status.idle": "2025-04-07T20:02:07.786297Z",
     "shell.execute_reply": "2025-04-07T20:02:07.785305Z"
    },
    "papermill": {
     "duration": 4.545314,
     "end_time": "2025-04-07T20:02:07.787620",
     "exception": false,
     "start_time": "2025-04-07T20:02:03.242306",
     "status": "completed"
    },
    "tags": []
   },
   "outputs": [
    {
     "data": {
      "text/plain": [
       "[0.75,\n",
       " 0.8425925925925926,\n",
       " 0.8333333333333334,\n",
       " 0.8055555555555556,\n",
       " 0.8148148148148148,\n",
       " 0.8148148148148148,\n",
       " 0.8055555555555556,\n",
       " 0.8055555555555556,\n",
       " 0.8055555555555556,\n",
       " 0.8055555555555556,\n",
       " 0.7777777777777778,\n",
       " 0.75,\n",
       " 0.7962962962962963,\n",
       " 0.7962962962962963,\n",
       " 0.7592592592592593,\n",
       " 0.7962962962962963,\n",
       " 0.7777777777777778,\n",
       " 0.7777777777777778,\n",
       " 0.7592592592592593,\n",
       " 0.7592592592592593,\n",
       " 0.7777777777777778,\n",
       " 0.7777777777777778,\n",
       " 0.75,\n",
       " 0.7314814814814815,\n",
       " 0.7314814814814815]"
      ]
     },
     "execution_count": 42,
     "metadata": {},
     "output_type": "execute_result"
    }
   ],
   "source": [
    "#Fonctions qui calculent le succès de knn pour chaque nombre de voisins k, où mini <= k <= maxi (impairs)\n",
    "\n",
    "def succes_par_voisin_cat(X_train, Y_train, X_test, Y_test, variables, mini, maxi) :\n",
    "    tab = []\n",
    "    for k in range(mini, maxi, 2) :\n",
    "        score = succes(knn_cat(X_train, Y_train, X_test, variables, k),Y_test) #Pour chaque k impair, on calcule le succès\n",
    "        tab.append(score)  \n",
    "    return tab\n",
    "\n",
    "def succes_par_voisin_num(X_train, Y_train, X_test, Y_test, variables, mini, maxi) :\n",
    "    tab = []\n",
    "    for k in range(mini, maxi, 2) :\n",
    "        score = succes(knn_num(X_train, Y_train, X_test, variables, k),Y_test) #Pour chaque k impair, on calcule le succès\n",
    "        tab.append(score)  \n",
    "    return tab\n",
    "\n",
    "succes_par_voisin_cat(X_train80, Y_train80, X_test20, Y_test20, var_cat_bon, 1, 51)"
   ]
  },
  {
   "cell_type": "code",
   "execution_count": 43,
   "id": "b8719d6f",
   "metadata": {
    "execution": {
     "iopub.execute_input": "2025-04-07T20:02:07.813065Z",
     "iopub.status.busy": "2025-04-07T20:02:07.812758Z",
     "iopub.status.idle": "2025-04-07T20:02:45.439733Z",
     "shell.execute_reply": "2025-04-07T20:02:45.438632Z"
    },
    "papermill": {
     "duration": 37.653466,
     "end_time": "2025-04-07T20:02:45.453326",
     "exception": false,
     "start_time": "2025-04-07T20:02:07.799860",
     "status": "completed"
    },
    "tags": []
   },
   "outputs": [
    {
     "data": {
      "image/png": "[encoded data removed]",
      "text/plain": [
       "<Figure size 640x480 with 1 Axes>"
      ]
     },
     "metadata": {},
     "output_type": "display_data"
    }
   ],
   "source": [
    "#Graphique du taux de succès par nombre de voisins sur 75 / 25, avec les bonnes numériques\n",
    "\n",
    "plt.plot([k for k in range(1,71,2)],succes_par_voisin_num(X_train75, Y_train75, X_test25, Y_test25, var_num_bon, 1, 71), marker='o', linestyle='-', color = 'limegreen')\n",
    "plt.plot([k for k in range(1,71,2)],succes_par_voisin_num(X_train75, Y_train75, X_train75, Y_train75, var_num_bon, 1, 71), marker='o', linestyle='-', color = 'tomato')\n",
    "plt.title(\"Succès du knn numérique, 75/25\")\n",
    "plt.xlabel(\"Nombre de voisins\")\n",
    "plt.ylabel(\"Succès\")\n",
    "plt.show()"
   ]
  },
  {
   "cell_type": "code",
   "execution_count": 44,
   "id": "48894049",
   "metadata": {
    "execution": {
     "iopub.execute_input": "2025-04-07T20:02:45.480052Z",
     "iopub.status.busy": "2025-04-07T20:02:45.479749Z",
     "iopub.status.idle": "2025-04-07T20:03:25.639224Z",
     "shell.execute_reply": "2025-04-07T20:03:25.638291Z"
    },
    "papermill": {
     "duration": 40.187626,
     "end_time": "2025-04-07T20:03:25.653556",
     "exception": false,
     "start_time": "2025-04-07T20:02:45.465930",
     "status": "completed"
    },
    "tags": []
   },
   "outputs": [
    {
     "data": {
      "image/png": "[encoded data removed]",
      "text/plain": [
       "<Figure size 640x480 with 1 Axes>"
      ]
     },
     "metadata": {},
     "output_type": "display_data"
    }
   ],
   "source": [
    "#Graphique du taux de succès par nombre de voisins sur 80 / 20, avec les bonnes numériques\n",
    "\n",
    "plt.plot([k for k in range(1,71,2)],succes_par_voisin_num(X_train80, Y_train80, X_test20, Y_test20, var_num_bon, 1, 71), marker='o', linestyle='-', color = 'limegreen')\n",
    "plt.plot([k for k in range(1,71,2)],succes_par_voisin_num(X_train80, Y_train80, X_train80, Y_train80, var_num_bon, 1, 71), marker='o', linestyle='-', color = 'tomato')\n",
    "plt.title(\"Succès du knn numérique, 80/20\")\n",
    "plt.xlabel(\"Nombre de voisins\")\n",
    "plt.ylabel(\"Succès\")\n",
    "plt.show()"
   ]
  },
  {
   "cell_type": "code",
   "execution_count": 45,
   "id": "8e0d6277",
   "metadata": {
    "execution": {
     "iopub.execute_input": "2025-04-07T20:03:25.682635Z",
     "iopub.status.busy": "2025-04-07T20:03:25.682334Z",
     "iopub.status.idle": "2025-04-07T20:03:55.448672Z",
     "shell.execute_reply": "2025-04-07T20:03:55.447614Z"
    },
    "papermill": {
     "duration": 29.78189,
     "end_time": "2025-04-07T20:03:55.450174",
     "exception": false,
     "start_time": "2025-04-07T20:03:25.668284",
     "status": "completed"
    },
    "tags": []
   },
   "outputs": [
    {
     "data": {
      "image/png": "[encoded data removed]",
      "text/plain": [
       "<Figure size 640x480 with 1 Axes>"
      ]
     },
     "metadata": {},
     "output_type": "display_data"
    }
   ],
   "source": [
    "#Graphique du taux de succès par nombre de voisins sur 75 / 25, avec les bonnes catégorielles\n",
    "\n",
    "plt.plot([k for k in range(1,71,2)],succes_par_voisin_cat(X_train75, Y_train75, X_test25, Y_test25, var_cat_bon, 1, 71), marker='o', linestyle='-', color = 'limegreen')\n",
    "plt.plot([k for k in range(1,71,2)],succes_par_voisin_cat(X_train75, Y_train75, X_train75, Y_train75, var_cat_bon, 1, 71), marker='o', linestyle='-', color = 'tomato')\n",
    "plt.title(\"Succès du knn catégoriel, 75/25\")\n",
    "plt.xlabel(\"Nombre de voisins\")\n",
    "plt.ylabel(\"Succès\")\n",
    "plt.show()"
   ]
  },
  {
   "cell_type": "code",
   "execution_count": 46,
   "id": "d3dc5572",
   "metadata": {
    "execution": {
     "iopub.execute_input": "2025-04-07T20:03:55.481477Z",
     "iopub.status.busy": "2025-04-07T20:03:55.481136Z",
     "iopub.status.idle": "2025-04-07T20:04:24.583560Z",
     "shell.execute_reply": "2025-04-07T20:04:24.582670Z"
    },
    "papermill": {
     "duration": 29.118691,
     "end_time": "2025-04-07T20:04:24.584784",
     "exception": false,
     "start_time": "2025-04-07T20:03:55.466093",
     "status": "completed"
    },
    "tags": []
   },
   "outputs": [
    {
     "data": {
      "image/png": "[encoded data removed]",
      "text/plain": [
       "<Figure size 640x480 with 1 Axes>"
      ]
     },
     "metadata": {},
     "output_type": "display_data"
    }
   ],
   "source": [
    "#Graphique du taux de succès par nombre de voisins sur 75 / 25, avec les 4 qui marchaient le mieux pour Bayes\n",
    "\n",
    "plt.plot([k for k in range(1,71,2)],succes_par_voisin_cat(X_train75, Y_train75, X_test25, Y_test25, var_cat_bay, 1, 71), marker='o', linestyle='-', color = 'limegreen')\n",
    "plt.plot([k for k in range(1,71,2)],succes_par_voisin_cat(X_train75, Y_train75, X_train75, Y_train75, var_cat_bay, 1, 71), marker='o', linestyle='-', color = 'tomato')\n",
    "plt.title(\"Succès du knn catégoriel avec les 4 variables qui marchaient le mieux sur Bayes\")\n",
    "plt.xlabel(\"Nombre de voisins\")\n",
    "plt.ylabel(\"Succès\")\n",
    "plt.show()"
   ]
  },
  {
   "cell_type": "code",
   "execution_count": 47,
   "id": "bf3688ca",
   "metadata": {
    "execution": {
     "iopub.execute_input": "2025-04-07T20:04:24.616857Z",
     "iopub.status.busy": "2025-04-07T20:04:24.616533Z",
     "iopub.status.idle": "2025-04-07T20:04:24.911869Z",
     "shell.execute_reply": "2025-04-07T20:04:24.910706Z"
    },
    "papermill": {
     "duration": 0.313107,
     "end_time": "2025-04-07T20:04:24.913580",
     "exception": false,
     "start_time": "2025-04-07T20:04:24.600473",
     "status": "completed"
    },
    "tags": []
   },
   "outputs": [
    {
     "data": {
      "text/html": [
       "<div>\n",
       "<style scoped>\n",
       "    .dataframe tbody tr th:only-of-type {\n",
       "        vertical-align: middle;\n",
       "    }\n",
       "\n",
       "    .dataframe tbody tr th {\n",
       "        vertical-align: top;\n",
       "    }\n",
       "\n",
       "    .dataframe thead th {\n",
       "        text-align: right;\n",
       "    }\n",
       "</style>\n",
       "<table border=\"1\" class=\"dataframe\">\n",
       "  <thead>\n",
       "    <tr style=\"text-align: right;\">\n",
       "      <th></th>\n",
       "      <th>classification_diagnostic</th>\n",
       "    </tr>\n",
       "    <tr>\n",
       "      <th>ID_ARBRE</th>\n",
       "      <th></th>\n",
       "    </tr>\n",
       "  </thead>\n",
       "  <tbody>\n",
       "    <tr>\n",
       "      <th>559</th>\n",
       "      <td>C2</td>\n",
       "    </tr>\n",
       "    <tr>\n",
       "      <th>560</th>\n",
       "      <td>C2</td>\n",
       "    </tr>\n",
       "    <tr>\n",
       "      <th>561</th>\n",
       "      <td>C2</td>\n",
       "    </tr>\n",
       "    <tr>\n",
       "      <th>562</th>\n",
       "      <td>C1</td>\n",
       "    </tr>\n",
       "    <tr>\n",
       "      <th>563</th>\n",
       "      <td>C2</td>\n",
       "    </tr>\n",
       "  </tbody>\n",
       "</table>\n",
       "</div>"
      ],
      "text/plain": [
       "         classification_diagnostic\n",
       "ID_ARBRE                          \n",
       "559                             C2\n",
       "560                             C2\n",
       "561                             C2\n",
       "562                             C1\n",
       "563                             C2"
      ]
     },
     "execution_count": 47,
     "metadata": {},
     "output_type": "execute_result"
    }
   ],
   "source": [
    "#Soumission de bayes à partir des bonnes variables catégorielles\n",
    "\n",
    "prev_bonnes_cat = pd.DataFrame(prev_data, columns = ['classification_diagnostic'])\n",
    "prev_bonnes_cat['classification_diagnostic'] = knn_cat(X_data_cat, Y_data, X_prev_data_cat, var_cat_bon, 9)\n",
    "prev_bonnes_cat.to_csv('prev_bonnes_cat92.csv', index = True, index_label = 'ID_ARBRE')\n",
    "\n",
    "prev_bonnes_cat.head()"
   ]
  },
  {
   "cell_type": "code",
   "execution_count": null,
   "id": "b2553636",
   "metadata": {
    "papermill": {
     "duration": 0.015535,
     "end_time": "2025-04-07T20:04:24.944882",
     "exception": false,
     "start_time": "2025-04-07T20:04:24.929347",
     "status": "completed"
    },
    "tags": []
   },
   "outputs": [],
   "source": []
  }
 ],
 "metadata": {
  "kaggle": {
   "accelerator": "none",
   "dataSources": [
    {
     "databundleVersionId": 10993933,
     "sourceId": 91132,
     "sourceType": "competition"
    }
   ],
   "dockerImageVersionId": 30822,
   "isGpuEnabled": false,
   "isInternetEnabled": false,
   "language": "python",
   "sourceType": "notebook"
  },
  "kernelspec": {
   "display_name": "Python 3",
   "language": "python",
   "name": "python3"
  },
  "language_info": {
   "codemirror_mode": {
    "name": "ipython",
    "version": 3
   },
   "file_extension": ".py",
   "mimetype": "text/x-python",
   "name": "python",
   "nbconvert_exporter": "python",
   "pygments_lexer": "ipython3",
   "version": "3.10.12"
  },
  "papermill": {
   "default_parameters": {},
   "duration": 157.479748,
   "end_time": "2025-04-07T20:04:25.579925",
   "environment_variables": {},
   "exception": null,
   "input_path": "__notebook__.ipynb",
   "output_path": "__notebook__.ipynb",
   "parameters": {},
   "start_time": "2025-04-07T20:01:48.100177",
   "version": "2.6.0"
  }
 },
 "nbformat": 4,
 "nbformat_minor": 5
}
